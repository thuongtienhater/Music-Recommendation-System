{
 "cells": [
  {
   "cell_type": "code",
   "execution_count": 1,
   "metadata": {},
   "outputs": [
    {
     "name": "stderr",
     "output_type": "stream",
     "text": [
      "c:\\Users\\Test\\anaconda3\\Lib\\site-packages\\pandas\\core\\arrays\\masked.py:60: UserWarning: Pandas requires version '1.3.6' or newer of 'bottleneck' (version '1.3.5' currently installed).\n",
      "  from pandas.core import (\n"
     ]
    },
    {
     "name": "stdout",
     "output_type": "stream",
     "text": [
      "WARNING:tensorflow:From c:\\Users\\Test\\anaconda3\\Lib\\site-packages\\keras\\src\\losses.py:2976: The name tf.losses.sparse_softmax_cross_entropy is deprecated. Please use tf.compat.v1.losses.sparse_softmax_cross_entropy instead.\n",
      "\n"
     ]
    }
   ],
   "source": [
    "from __future__ import print_function\n",
    "\n",
    "import numpy as np\n",
    "import pandas as pd\n",
    "import collections\n",
    "from mpl_toolkits.mplot3d import Axes3D\n",
    "from IPython import display\n",
    "from matplotlib import pyplot as plt\n",
    "import sklearn\n",
    "import sklearn.manifold\n",
    "import tensorflow as tf\n",
    "from sklearn import preprocessing\n",
    "import time\n",
    "import seaborn as sns\n",
    "import re\n",
    "from gensim.models import word2vec\n",
    "from keras.preprocessing.text import Tokenizer\n",
    "from keras.preprocessing.sequence import pad_sequences\n",
    "from sklearn.model_selection import train_test_split\n",
    "import os\n",
    "from keras.models import Sequential\n",
    "\n",
    "from keras.layers import Embedding\n",
    "\n",
    "# tf.logging.set_verbosity(tf.logging.ERROR)\n",
    "import logging\n",
    "logging.getLogger('tensorflow').setLevel(logging.ERROR)\n",
    "\n",
    "\n",
    "# Add some convenience functions to Pandas DataFrame.\n",
    "pd.options.display.max_rows = 10\n",
    "pd.options.display.float_format = '{:.3f}'.format\n",
    "def mask(df, key, function):\n",
    "  \"\"\"Returns a filtered dataframe, by applying function to key\"\"\"\n",
    "  return df[function(df[key])]\n",
    "\n",
    "def flatten_cols(df):\n",
    "  df.columns = [' '.join(col).strip() for col in df.columns.values]\n",
    "  return df\n",
    "\n",
    "pd.DataFrame.mask = mask\n",
    "pd.DataFrame.flatten_cols = flatten_cols"
   ]
  },
  {
   "cell_type": "markdown",
   "metadata": {},
   "source": [
    "### Load Data"
   ]
  },
  {
   "cell_type": "code",
   "execution_count": 2,
   "metadata": {},
   "outputs": [
    {
     "name": "stderr",
     "output_type": "stream",
     "text": [
      "C:\\Users\\Test\\AppData\\Local\\Temp\\ipykernel_11172\\640230490.py:10: ParserWarning: Falling back to the 'python' engine because the 'c' engine does not support regex separators (separators > 1 char and different from '\\s+' are interpreted as regex); you can avoid this warning by specifying engine='python'.\n",
      "  song_df_2 = pd.read_csv('unique_tracks.txt', sep=\"<SEP>\", names=['track_id', 'song_id', 'artist_name', 'title'])\n"
     ]
    }
   ],
   "source": [
    "triplets_file = 'train_triplets.txt'\n",
    "songs_metadata_file = 'unique_tracks.txt'\n",
    "\n",
    "song_df_1 = pd.read_table(triplets_file,header=None)\n",
    "song_df_1.columns = ['user_id', 'song_id', 'listen_count']\n",
    "# index = len(song_df_1)//5\n",
    "# song_df_1 = song_df_1[:index]\n",
    "\n",
    "#Read song  metadata\n",
    "song_df_2 = pd.read_csv('unique_tracks.txt', sep=\"<SEP>\", names=['track_id', 'song_id', 'artist_name', 'title'])\n",
    "song_df_2.drop(columns='track_id', inplace=True)"
   ]
  },
  {
   "cell_type": "code",
   "execution_count": 3,
   "metadata": {},
   "outputs": [
    {
     "data": {
      "text/html": [
       "<div>\n",
       "<style scoped>\n",
       "    .dataframe tbody tr th:only-of-type {\n",
       "        vertical-align: middle;\n",
       "    }\n",
       "\n",
       "    .dataframe tbody tr th {\n",
       "        vertical-align: top;\n",
       "    }\n",
       "\n",
       "    .dataframe thead th {\n",
       "        text-align: right;\n",
       "    }\n",
       "</style>\n",
       "<table border=\"1\" class=\"dataframe\">\n",
       "  <thead>\n",
       "    <tr style=\"text-align: right;\">\n",
       "      <th></th>\n",
       "      <th>user_id</th>\n",
       "      <th>song_id</th>\n",
       "      <th>listen_count</th>\n",
       "    </tr>\n",
       "  </thead>\n",
       "  <tbody>\n",
       "    <tr>\n",
       "      <th>0</th>\n",
       "      <td>b80344d063b5ccb3212f76538f3d9e43d87dca9e</td>\n",
       "      <td>SOAKIMP12A8C130995</td>\n",
       "      <td>1</td>\n",
       "    </tr>\n",
       "    <tr>\n",
       "      <th>1</th>\n",
       "      <td>b80344d063b5ccb3212f76538f3d9e43d87dca9e</td>\n",
       "      <td>SOAPDEY12A81C210A9</td>\n",
       "      <td>1</td>\n",
       "    </tr>\n",
       "    <tr>\n",
       "      <th>2</th>\n",
       "      <td>b80344d063b5ccb3212f76538f3d9e43d87dca9e</td>\n",
       "      <td>SOBBMDR12A8C13253B</td>\n",
       "      <td>2</td>\n",
       "    </tr>\n",
       "    <tr>\n",
       "      <th>3</th>\n",
       "      <td>b80344d063b5ccb3212f76538f3d9e43d87dca9e</td>\n",
       "      <td>SOBFNSP12AF72A0E22</td>\n",
       "      <td>1</td>\n",
       "    </tr>\n",
       "    <tr>\n",
       "      <th>4</th>\n",
       "      <td>b80344d063b5ccb3212f76538f3d9e43d87dca9e</td>\n",
       "      <td>SOBFOVM12A58A7D494</td>\n",
       "      <td>1</td>\n",
       "    </tr>\n",
       "  </tbody>\n",
       "</table>\n",
       "</div>"
      ],
      "text/plain": [
       "                                    user_id             song_id  listen_count\n",
       "0  b80344d063b5ccb3212f76538f3d9e43d87dca9e  SOAKIMP12A8C130995             1\n",
       "1  b80344d063b5ccb3212f76538f3d9e43d87dca9e  SOAPDEY12A81C210A9             1\n",
       "2  b80344d063b5ccb3212f76538f3d9e43d87dca9e  SOBBMDR12A8C13253B             2\n",
       "3  b80344d063b5ccb3212f76538f3d9e43d87dca9e  SOBFNSP12AF72A0E22             1\n",
       "4  b80344d063b5ccb3212f76538f3d9e43d87dca9e  SOBFOVM12A58A7D494             1"
      ]
     },
     "execution_count": 3,
     "metadata": {},
     "output_type": "execute_result"
    }
   ],
   "source": [
    "song_df_1.head()"
   ]
  },
  {
   "cell_type": "code",
   "execution_count": 4,
   "metadata": {},
   "outputs": [
    {
     "data": {
      "text/html": [
       "<div>\n",
       "<style scoped>\n",
       "    .dataframe tbody tr th:only-of-type {\n",
       "        vertical-align: middle;\n",
       "    }\n",
       "\n",
       "    .dataframe tbody tr th {\n",
       "        vertical-align: top;\n",
       "    }\n",
       "\n",
       "    .dataframe thead th {\n",
       "        text-align: right;\n",
       "    }\n",
       "</style>\n",
       "<table border=\"1\" class=\"dataframe\">\n",
       "  <thead>\n",
       "    <tr style=\"text-align: right;\">\n",
       "      <th></th>\n",
       "      <th>song_id</th>\n",
       "      <th>artist_name</th>\n",
       "      <th>title</th>\n",
       "    </tr>\n",
       "  </thead>\n",
       "  <tbody>\n",
       "    <tr>\n",
       "      <th>0</th>\n",
       "      <td>SOQMMHC12AB0180CB8</td>\n",
       "      <td>Faster Pussy cat</td>\n",
       "      <td>Silent Night</td>\n",
       "    </tr>\n",
       "    <tr>\n",
       "      <th>1</th>\n",
       "      <td>SOVFVAK12A8C1350D9</td>\n",
       "      <td>Karkkiautomaatti</td>\n",
       "      <td>Tanssi vaan</td>\n",
       "    </tr>\n",
       "    <tr>\n",
       "      <th>2</th>\n",
       "      <td>SOGTUKN12AB017F4F1</td>\n",
       "      <td>Hudson Mohawke</td>\n",
       "      <td>No One Could Ever</td>\n",
       "    </tr>\n",
       "    <tr>\n",
       "      <th>3</th>\n",
       "      <td>SOBNYVR12A8C13558C</td>\n",
       "      <td>Yerba Brava</td>\n",
       "      <td>Si Vos Querés</td>\n",
       "    </tr>\n",
       "    <tr>\n",
       "      <th>4</th>\n",
       "      <td>SOHSBXH12A8C13B0DF</td>\n",
       "      <td>Der Mystic</td>\n",
       "      <td>Tangle Of Aspens</td>\n",
       "    </tr>\n",
       "  </tbody>\n",
       "</table>\n",
       "</div>"
      ],
      "text/plain": [
       "              song_id       artist_name              title\n",
       "0  SOQMMHC12AB0180CB8  Faster Pussy cat       Silent Night\n",
       "1  SOVFVAK12A8C1350D9  Karkkiautomaatti        Tanssi vaan\n",
       "2  SOGTUKN12AB017F4F1    Hudson Mohawke  No One Could Ever\n",
       "3  SOBNYVR12A8C13558C       Yerba Brava      Si Vos Querés\n",
       "4  SOHSBXH12A8C13B0DF        Der Mystic   Tangle Of Aspens"
      ]
     },
     "execution_count": 4,
     "metadata": {},
     "output_type": "execute_result"
    }
   ],
   "source": [
    "song_df_2.head()"
   ]
  },
  {
   "cell_type": "code",
   "execution_count": 5,
   "metadata": {},
   "outputs": [
    {
     "data": {
      "text/plain": [
       "72665"
      ]
     },
     "execution_count": 5,
     "metadata": {},
     "output_type": "execute_result"
    }
   ],
   "source": [
    "len(song_df_2.artist_name.unique())"
   ]
  },
  {
   "cell_type": "code",
   "execution_count": 6,
   "metadata": {},
   "outputs": [
    {
     "data": {
      "text/plain": [
       "702000"
      ]
     },
     "execution_count": 6,
     "metadata": {},
     "output_type": "execute_result"
    }
   ],
   "source": [
    "len(song_df_2.title.unique())"
   ]
  },
  {
   "cell_type": "markdown",
   "metadata": {},
   "source": [
    "### Data Cleaning"
   ]
  },
  {
   "cell_type": "code",
   "execution_count": 6,
   "metadata": {},
   "outputs": [],
   "source": [
    "le_song_id = preprocessing.LabelEncoder()\n",
    "le_song_id.fit(song_df_2.song_id)\n",
    "song_df_2.song_id = le_song_id.transform(song_df_2.song_id)\n",
    "song_df_1.song_id = le_song_id.transform(song_df_1.song_id)"
   ]
  },
  {
   "cell_type": "code",
   "execution_count": 7,
   "metadata": {},
   "outputs": [],
   "source": [
    "le_user_id = preprocessing.LabelEncoder()\n",
    "song_df_1.user_id = le_user_id.fit_transform(song_df_1.user_id)"
   ]
  },
  {
   "cell_type": "markdown",
   "metadata": {},
   "source": [
    "### Merge two dataset"
   ]
  },
  {
   "cell_type": "code",
   "execution_count": 11,
   "metadata": {},
   "outputs": [],
   "source": [
    "song_df = pd.merge(song_df_1, \\\n",
    "                   song_df_2.drop_duplicates(['song_id']), \\\n",
    "                   on=\"song_id\", how=\"left\")"
   ]
  },
  {
   "cell_type": "code",
   "execution_count": 12,
   "metadata": {},
   "outputs": [],
   "source": [
    "index = len(song_df)//20\n",
    "song_df = song_df.iloc[:index]"
   ]
  },
  {
   "cell_type": "code",
   "execution_count": 13,
   "metadata": {},
   "outputs": [
    {
     "data": {
      "text/html": [
       "<div>\n",
       "<style scoped>\n",
       "    .dataframe tbody tr th:only-of-type {\n",
       "        vertical-align: middle;\n",
       "    }\n",
       "\n",
       "    .dataframe tbody tr th {\n",
       "        vertical-align: top;\n",
       "    }\n",
       "\n",
       "    .dataframe thead th {\n",
       "        text-align: right;\n",
       "    }\n",
       "</style>\n",
       "<table border=\"1\" class=\"dataframe\">\n",
       "  <thead>\n",
       "    <tr style=\"text-align: right;\">\n",
       "      <th></th>\n",
       "      <th>user_id</th>\n",
       "      <th>song_id</th>\n",
       "      <th>listen_count</th>\n",
       "      <th>artist_name</th>\n",
       "      <th>title</th>\n",
       "    </tr>\n",
       "  </thead>\n",
       "  <tbody>\n",
       "    <tr>\n",
       "      <th>0</th>\n",
       "      <td>732659</td>\n",
       "      <td>17370</td>\n",
       "      <td>1</td>\n",
       "      <td>Jack Johnson</td>\n",
       "      <td>The Cove</td>\n",
       "    </tr>\n",
       "    <tr>\n",
       "      <th>1</th>\n",
       "      <td>732659</td>\n",
       "      <td>25443</td>\n",
       "      <td>1</td>\n",
       "      <td>Billy Preston</td>\n",
       "      <td>Nothing from Nothing</td>\n",
       "    </tr>\n",
       "    <tr>\n",
       "      <th>2</th>\n",
       "      <td>732659</td>\n",
       "      <td>45995</td>\n",
       "      <td>2</td>\n",
       "      <td>Paco De Lucia</td>\n",
       "      <td>Entre Dos Aguas</td>\n",
       "    </tr>\n",
       "    <tr>\n",
       "      <th>3</th>\n",
       "      <td>732659</td>\n",
       "      <td>52765</td>\n",
       "      <td>1</td>\n",
       "      <td>Josh Rouse</td>\n",
       "      <td>Under Cold Blue Stars</td>\n",
       "    </tr>\n",
       "    <tr>\n",
       "      <th>4</th>\n",
       "      <td>732659</td>\n",
       "      <td>52840</td>\n",
       "      <td>1</td>\n",
       "      <td>The Dead 60s</td>\n",
       "      <td>Riot Radio (Soundtrack Version)</td>\n",
       "    </tr>\n",
       "    <tr>\n",
       "      <th>...</th>\n",
       "      <td>...</td>\n",
       "      <td>...</td>\n",
       "      <td>...</td>\n",
       "      <td>...</td>\n",
       "      <td>...</td>\n",
       "    </tr>\n",
       "    <tr>\n",
       "      <th>2418674</th>\n",
       "      <td>138140</td>\n",
       "      <td>786302</td>\n",
       "      <td>1</td>\n",
       "      <td>Train</td>\n",
       "      <td>Marry Me</td>\n",
       "    </tr>\n",
       "    <tr>\n",
       "      <th>2418675</th>\n",
       "      <td>138140</td>\n",
       "      <td>816236</td>\n",
       "      <td>1</td>\n",
       "      <td>Usher featuring will.i.am</td>\n",
       "      <td>OMG</td>\n",
       "    </tr>\n",
       "    <tr>\n",
       "      <th>2418676</th>\n",
       "      <td>138140</td>\n",
       "      <td>820777</td>\n",
       "      <td>1</td>\n",
       "      <td>Lil Wayne / Eminem</td>\n",
       "      <td>Drop The World</td>\n",
       "    </tr>\n",
       "    <tr>\n",
       "      <th>2418677</th>\n",
       "      <td>138140</td>\n",
       "      <td>864745</td>\n",
       "      <td>1</td>\n",
       "      <td>Kings Of Leon</td>\n",
       "      <td>Use Somebody</td>\n",
       "    </tr>\n",
       "    <tr>\n",
       "      <th>2418678</th>\n",
       "      <td>976676</td>\n",
       "      <td>17933</td>\n",
       "      <td>3</td>\n",
       "      <td>Meshuggah</td>\n",
       "      <td>Electric Red</td>\n",
       "    </tr>\n",
       "  </tbody>\n",
       "</table>\n",
       "<p>2418679 rows × 5 columns</p>\n",
       "</div>"
      ],
      "text/plain": [
       "         user_id  song_id  listen_count                artist_name  \\\n",
       "0         732659    17370             1               Jack Johnson   \n",
       "1         732659    25443             1              Billy Preston   \n",
       "2         732659    45995             2              Paco De Lucia   \n",
       "3         732659    52765             1                 Josh Rouse   \n",
       "4         732659    52840             1               The Dead 60s   \n",
       "...          ...      ...           ...                        ...   \n",
       "2418674   138140   786302             1                      Train   \n",
       "2418675   138140   816236             1  Usher featuring will.i.am   \n",
       "2418676   138140   820777             1         Lil Wayne / Eminem   \n",
       "2418677   138140   864745             1              Kings Of Leon   \n",
       "2418678   976676    17933             3                  Meshuggah   \n",
       "\n",
       "                                   title  \n",
       "0                               The Cove  \n",
       "1                   Nothing from Nothing  \n",
       "2                        Entre Dos Aguas  \n",
       "3                  Under Cold Blue Stars  \n",
       "4        Riot Radio (Soundtrack Version)  \n",
       "...                                  ...  \n",
       "2418674                         Marry Me  \n",
       "2418675                              OMG  \n",
       "2418676                   Drop The World  \n",
       "2418677                     Use Somebody  \n",
       "2418678                     Electric Red  \n",
       "\n",
       "[2418679 rows x 5 columns]"
      ]
     },
     "execution_count": 13,
     "metadata": {},
     "output_type": "execute_result"
    }
   ],
   "source": [
    "song_df"
   ]
  },
  {
   "cell_type": "code",
   "execution_count": 15,
   "metadata": {},
   "outputs": [
    {
     "data": {
      "text/html": [
       "<div>\n",
       "<style scoped>\n",
       "    .dataframe tbody tr th:only-of-type {\n",
       "        vertical-align: middle;\n",
       "    }\n",
       "\n",
       "    .dataframe tbody tr th {\n",
       "        vertical-align: top;\n",
       "    }\n",
       "\n",
       "    .dataframe thead th {\n",
       "        text-align: right;\n",
       "    }\n",
       "</style>\n",
       "<table border=\"1\" class=\"dataframe\">\n",
       "  <thead>\n",
       "    <tr style=\"text-align: right;\">\n",
       "      <th></th>\n",
       "      <th>user_id</th>\n",
       "      <th>song_id</th>\n",
       "      <th>listen_count</th>\n",
       "      <th>artist_name</th>\n",
       "      <th>title</th>\n",
       "    </tr>\n",
       "  </thead>\n",
       "  <tbody>\n",
       "    <tr>\n",
       "      <th>count</th>\n",
       "      <td>2418679.000</td>\n",
       "      <td>2418679.000</td>\n",
       "      <td>2418679.000</td>\n",
       "      <td>2418679</td>\n",
       "      <td>2418674</td>\n",
       "    </tr>\n",
       "    <tr>\n",
       "      <th>unique</th>\n",
       "      <td>NaN</td>\n",
       "      <td>NaN</td>\n",
       "      <td>NaN</td>\n",
       "      <td>31036</td>\n",
       "      <td>171958</td>\n",
       "    </tr>\n",
       "    <tr>\n",
       "      <th>top</th>\n",
       "      <td>NaN</td>\n",
       "      <td>NaN</td>\n",
       "      <td>NaN</td>\n",
       "      <td>Coldplay</td>\n",
       "      <td>Sehr kosmisch</td>\n",
       "    </tr>\n",
       "    <tr>\n",
       "      <th>freq</th>\n",
       "      <td>NaN</td>\n",
       "      <td>NaN</td>\n",
       "      <td>NaN</td>\n",
       "      <td>19776</td>\n",
       "      <td>5451</td>\n",
       "    </tr>\n",
       "    <tr>\n",
       "      <th>mean</th>\n",
       "      <td>509999.019</td>\n",
       "      <td>508882.160</td>\n",
       "      <td>2.865</td>\n",
       "      <td>NaN</td>\n",
       "      <td>NaN</td>\n",
       "    </tr>\n",
       "    <tr>\n",
       "      <th>...</th>\n",
       "      <td>...</td>\n",
       "      <td>...</td>\n",
       "      <td>...</td>\n",
       "      <td>...</td>\n",
       "      <td>...</td>\n",
       "    </tr>\n",
       "    <tr>\n",
       "      <th>min</th>\n",
       "      <td>5.000</td>\n",
       "      <td>12.000</td>\n",
       "      <td>1.000</td>\n",
       "      <td>NaN</td>\n",
       "      <td>NaN</td>\n",
       "    </tr>\n",
       "    <tr>\n",
       "      <th>25%</th>\n",
       "      <td>256386.000</td>\n",
       "      <td>260972.000</td>\n",
       "      <td>1.000</td>\n",
       "      <td>NaN</td>\n",
       "      <td>NaN</td>\n",
       "    </tr>\n",
       "    <tr>\n",
       "      <th>50%</th>\n",
       "      <td>508985.000</td>\n",
       "      <td>517732.000</td>\n",
       "      <td>1.000</td>\n",
       "      <td>NaN</td>\n",
       "      <td>NaN</td>\n",
       "    </tr>\n",
       "    <tr>\n",
       "      <th>75%</th>\n",
       "      <td>761578.000</td>\n",
       "      <td>759413.000</td>\n",
       "      <td>3.000</td>\n",
       "      <td>NaN</td>\n",
       "      <td>NaN</td>\n",
       "    </tr>\n",
       "    <tr>\n",
       "      <th>max</th>\n",
       "      <td>1019285.000</td>\n",
       "      <td>999052.000</td>\n",
       "      <td>2213.000</td>\n",
       "      <td>NaN</td>\n",
       "      <td>NaN</td>\n",
       "    </tr>\n",
       "  </tbody>\n",
       "</table>\n",
       "<p>11 rows × 5 columns</p>\n",
       "</div>"
      ],
      "text/plain": [
       "           user_id     song_id  listen_count artist_name          title\n",
       "count  2418679.000 2418679.000   2418679.000     2418679        2418674\n",
       "unique         NaN         NaN           NaN       31036         171958\n",
       "top            NaN         NaN           NaN    Coldplay  Sehr kosmisch\n",
       "freq           NaN         NaN           NaN       19776           5451\n",
       "mean    509999.019  508882.160         2.865         NaN            NaN\n",
       "...            ...         ...           ...         ...            ...\n",
       "min          5.000      12.000         1.000         NaN            NaN\n",
       "25%     256386.000  260972.000         1.000         NaN            NaN\n",
       "50%     508985.000  517732.000         1.000         NaN            NaN\n",
       "75%     761578.000  759413.000         3.000         NaN            NaN\n",
       "max    1019285.000  999052.000      2213.000         NaN            NaN\n",
       "\n",
       "[11 rows x 5 columns]"
      ]
     },
     "execution_count": 15,
     "metadata": {},
     "output_type": "execute_result"
    }
   ],
   "source": [
    "# song_df.describe(include=[np.int, np.object])\n",
    "song_df.describe(include=[np.int32, np.int64, np.object_])\n"
   ]
  },
  {
   "cell_type": "code",
   "execution_count": 16,
   "metadata": {},
   "outputs": [],
   "source": [
    "song_df = song_df.fillna(value=0)"
   ]
  },
  {
   "cell_type": "code",
   "execution_count": 18,
   "metadata": {},
   "outputs": [
    {
     "name": "stderr",
     "output_type": "stream",
     "text": [
      "C:\\Users\\Test\\AppData\\Local\\Temp\\ipykernel_11172\\396669975.py:1: UserWarning: \n",
      "\n",
      "`distplot` is a deprecated function and will be removed in seaborn v0.14.0.\n",
      "\n",
      "Please adapt your code to use either `displot` (a figure-level function with\n",
      "similar flexibility) or `histplot` (an axes-level function for histograms).\n",
      "\n",
      "For a guide to updating your code to use the new functions, please see\n",
      "https://gist.github.com/mwaskom/de44147ed2974457ad6372750bbe5751\n",
      "\n",
      "  g = sns.distplot(song_df.listen_count, kde=False, rug=False)\n"
     ]
    },
    {
     "data": {
      "image/png": "[encoded data removed]",
      "text/plain": [
       "<Figure size 640x480 with 1 Axes>"
      ]
     },
     "metadata": {},
     "output_type": "display_data"
    }
   ],
   "source": [
    "g = sns.distplot(song_df.listen_count, kde=False, rug=False)\n",
    "g.set_yscale('log')"
   ]
  },
  {
   "cell_type": "markdown",
   "metadata": {},
   "source": [
    "#### number of unique user"
   ]
  },
  {
   "cell_type": "code",
   "execution_count": 19,
   "metadata": {},
   "outputs": [
    {
     "data": {
      "text/plain": [
       "50449"
      ]
     },
     "execution_count": 19,
     "metadata": {},
     "output_type": "execute_result"
    }
   ],
   "source": [
    "len(pd.unique(song_df.user_id))"
   ]
  },
  {
   "cell_type": "markdown",
   "metadata": {},
   "source": [
    "#### number of unique song"
   ]
  },
  {
   "cell_type": "code",
   "execution_count": 20,
   "metadata": {},
   "outputs": [
    {
     "data": {
      "text/plain": [
       "206930"
      ]
     },
     "execution_count": 20,
     "metadata": {},
     "output_type": "execute_result"
    }
   ],
   "source": [
    "len(pd.unique(song_df.song_id))"
   ]
  },
  {
   "cell_type": "markdown",
   "metadata": {},
   "source": [
    "#### check the most popular songs"
   ]
  },
  {
   "cell_type": "code",
   "execution_count": 21,
   "metadata": {},
   "outputs": [
    {
     "data": {
      "text/html": [
       "<div>\n",
       "<style scoped>\n",
       "    .dataframe tbody tr th:only-of-type {\n",
       "        vertical-align: middle;\n",
       "    }\n",
       "\n",
       "    .dataframe tbody tr th {\n",
       "        vertical-align: top;\n",
       "    }\n",
       "\n",
       "    .dataframe thead th {\n",
       "        text-align: right;\n",
       "    }\n",
       "</style>\n",
       "<table border=\"1\" class=\"dataframe\">\n",
       "  <thead>\n",
       "    <tr style=\"text-align: right;\">\n",
       "      <th></th>\n",
       "      <th>title</th>\n",
       "      <th>listen_count count</th>\n",
       "      <th>listen_count mean</th>\n",
       "    </tr>\n",
       "  </thead>\n",
       "  <tbody>\n",
       "    <tr>\n",
       "      <th>167681</th>\n",
       "      <td>Sehr kosmisch</td>\n",
       "      <td>5451</td>\n",
       "      <td>3.652</td>\n",
       "    </tr>\n",
       "    <tr>\n",
       "      <th>23147</th>\n",
       "      <td>Undo</td>\n",
       "      <td>4641</td>\n",
       "      <td>6.758</td>\n",
       "    </tr>\n",
       "    <tr>\n",
       "      <th>31565</th>\n",
       "      <td>Dog Days Are Over (Radio Edit)</td>\n",
       "      <td>4589</td>\n",
       "      <td>3.814</td>\n",
       "    </tr>\n",
       "    <tr>\n",
       "      <th>93090</th>\n",
       "      <td>You're The One</td>\n",
       "      <td>4197</td>\n",
       "      <td>8.355</td>\n",
       "    </tr>\n",
       "    <tr>\n",
       "      <th>179717</th>\n",
       "      <td>Revelry</td>\n",
       "      <td>4015</td>\n",
       "      <td>6.755</td>\n",
       "    </tr>\n",
       "    <tr>\n",
       "      <th>179177</th>\n",
       "      <td>Secrets</td>\n",
       "      <td>3805</td>\n",
       "      <td>3.775</td>\n",
       "    </tr>\n",
       "    <tr>\n",
       "      <th>128370</th>\n",
       "      <td>Horn Concerto No. 4 in E flat K495: II. Romanc...</td>\n",
       "      <td>3507</td>\n",
       "      <td>5.734</td>\n",
       "    </tr>\n",
       "    <tr>\n",
       "      <th>165572</th>\n",
       "      <td>Fireflies</td>\n",
       "      <td>3132</td>\n",
       "      <td>3.033</td>\n",
       "    </tr>\n",
       "    <tr>\n",
       "      <th>161108</th>\n",
       "      <td>Hey_ Soul Sister</td>\n",
       "      <td>3132</td>\n",
       "      <td>3.268</td>\n",
       "    </tr>\n",
       "    <tr>\n",
       "      <th>115875</th>\n",
       "      <td>Tive Sim</td>\n",
       "      <td>2971</td>\n",
       "      <td>3.106</td>\n",
       "    </tr>\n",
       "  </tbody>\n",
       "</table>\n",
       "</div>"
      ],
      "text/plain": [
       "                                                    title  listen_count count  \\\n",
       "167681                                      Sehr kosmisch                5451   \n",
       "23147                                                Undo                4641   \n",
       "31565                      Dog Days Are Over (Radio Edit)                4589   \n",
       "93090                                      You're The One                4197   \n",
       "179717                                            Revelry                4015   \n",
       "179177                                            Secrets                3805   \n",
       "128370  Horn Concerto No. 4 in E flat K495: II. Romanc...                3507   \n",
       "165572                                          Fireflies                3132   \n",
       "161108                                   Hey_ Soul Sister                3132   \n",
       "115875                                           Tive Sim                2971   \n",
       "\n",
       "        listen_count mean  \n",
       "167681              3.652  \n",
       "23147               6.758  \n",
       "31565               3.814  \n",
       "93090               8.355  \n",
       "179717              6.755  \n",
       "179177              3.775  \n",
       "128370              5.734  \n",
       "165572              3.033  \n",
       "161108              3.268  \n",
       "115875              3.106  "
      ]
     },
     "execution_count": 21,
     "metadata": {},
     "output_type": "execute_result"
    }
   ],
   "source": [
    "song_ratings = song_df_2.merge(\n",
    "    song_df\n",
    "    .groupby('song_id', as_index=False)\n",
    "    .agg({'listen_count': ['count', 'mean']})\n",
    "    .flatten_cols(),\n",
    "    on='song_id')\n",
    "\n",
    "sorted_song = (song_ratings[['title', 'listen_count count', 'listen_count mean']].sort_values('listen_count count', ascending=False))\n",
    "\n",
    "sorted_song.head(10)"
   ]
  },
  {
   "cell_type": "markdown",
   "metadata": {},
   "source": [
    "### Data Normalization\n",
    "Số lượng 'list_count' tối đa là 8277, trong khi số tối thiểu là 0. Phạm vi lớn này sẽ tạo ra vấn đề cho mô hình và yêu cầu chuẩn hóa.\n",
    "\n",
    "Ở đây, trước tiên nhóm dữ liệu theo người dùng, sau đó chuẩn hóa giá trị listen_count."
   ]
  },
  {
   "cell_type": "code",
   "execution_count": 22,
   "metadata": {},
   "outputs": [
    {
     "name": "stdout",
     "output_type": "stream",
     "text": [
      "<class 'pandas.core.frame.DataFrame'>\n",
      "RangeIndex: 2418679 entries, 0 to 2418678\n",
      "Data columns (total 5 columns):\n",
      " #   Column        Dtype \n",
      "---  ------        ----- \n",
      " 0   user_id       int32 \n",
      " 1   song_id       int32 \n",
      " 2   listen_count  int64 \n",
      " 3   artist_name   object\n",
      " 4   title         object\n",
      "dtypes: int32(2), int64(1), object(2)\n",
      "memory usage: 73.8+ MB\n"
     ]
    }
   ],
   "source": [
    "song_df.info()"
   ]
  },
  {
   "cell_type": "code",
   "execution_count": 23,
   "metadata": {},
   "outputs": [
    {
     "data": {
      "text/html": [
       "<div>\n",
       "<style scoped>\n",
       "    .dataframe tbody tr th:only-of-type {\n",
       "        vertical-align: middle;\n",
       "    }\n",
       "\n",
       "    .dataframe tbody tr th {\n",
       "        vertical-align: top;\n",
       "    }\n",
       "\n",
       "    .dataframe thead th {\n",
       "        text-align: right;\n",
       "    }\n",
       "</style>\n",
       "<table border=\"1\" class=\"dataframe\">\n",
       "  <thead>\n",
       "    <tr style=\"text-align: right;\">\n",
       "      <th></th>\n",
       "      <th>user_id</th>\n",
       "      <th>song_id</th>\n",
       "      <th>listen_count</th>\n",
       "      <th>artist_name</th>\n",
       "      <th>title</th>\n",
       "    </tr>\n",
       "  </thead>\n",
       "  <tbody>\n",
       "    <tr>\n",
       "      <th>0</th>\n",
       "      <td>732659</td>\n",
       "      <td>17370</td>\n",
       "      <td>-0.299</td>\n",
       "      <td>Jack Johnson</td>\n",
       "      <td>The Cove</td>\n",
       "    </tr>\n",
       "    <tr>\n",
       "      <th>1</th>\n",
       "      <td>732659</td>\n",
       "      <td>25443</td>\n",
       "      <td>-0.299</td>\n",
       "      <td>Billy Preston</td>\n",
       "      <td>Nothing from Nothing</td>\n",
       "    </tr>\n",
       "    <tr>\n",
       "      <th>2</th>\n",
       "      <td>732659</td>\n",
       "      <td>45995</td>\n",
       "      <td>0.519</td>\n",
       "      <td>Paco De Lucia</td>\n",
       "      <td>Entre Dos Aguas</td>\n",
       "    </tr>\n",
       "    <tr>\n",
       "      <th>3</th>\n",
       "      <td>732659</td>\n",
       "      <td>52765</td>\n",
       "      <td>-0.299</td>\n",
       "      <td>Josh Rouse</td>\n",
       "      <td>Under Cold Blue Stars</td>\n",
       "    </tr>\n",
       "    <tr>\n",
       "      <th>4</th>\n",
       "      <td>732659</td>\n",
       "      <td>52840</td>\n",
       "      <td>-0.299</td>\n",
       "      <td>The Dead 60s</td>\n",
       "      <td>Riot Radio (Soundtrack Version)</td>\n",
       "    </tr>\n",
       "  </tbody>\n",
       "</table>\n",
       "</div>"
      ],
      "text/plain": [
       "   user_id  song_id  listen_count    artist_name  \\\n",
       "0   732659    17370        -0.299   Jack Johnson   \n",
       "1   732659    25443        -0.299  Billy Preston   \n",
       "2   732659    45995         0.519  Paco De Lucia   \n",
       "3   732659    52765        -0.299     Josh Rouse   \n",
       "4   732659    52840        -0.299   The Dead 60s   \n",
       "\n",
       "                             title  \n",
       "0                         The Cove  \n",
       "1             Nothing from Nothing  \n",
       "2                  Entre Dos Aguas  \n",
       "3            Under Cold Blue Stars  \n",
       "4  Riot Radio (Soundtrack Version)  "
      ]
     },
     "execution_count": 23,
     "metadata": {},
     "output_type": "execute_result"
    }
   ],
   "source": [
    "def zscore(x):\n",
    "    return (x - x.mean()) / x.std()\n",
    "\n",
    "norm = song_df.groupby('user_id')['listen_count'].transform(zscore)\n",
    "song_df['listen_count'] = norm\n",
    "\n",
    "song_df.head()"
   ]
  },
  {
   "cell_type": "code",
   "execution_count": 24,
   "metadata": {},
   "outputs": [
    {
     "data": {
      "text/html": [
       "<div>\n",
       "<style scoped>\n",
       "    .dataframe tbody tr th:only-of-type {\n",
       "        vertical-align: middle;\n",
       "    }\n",
       "\n",
       "    .dataframe tbody tr th {\n",
       "        vertical-align: top;\n",
       "    }\n",
       "\n",
       "    .dataframe thead th {\n",
       "        text-align: right;\n",
       "    }\n",
       "</style>\n",
       "<table border=\"1\" class=\"dataframe\">\n",
       "  <thead>\n",
       "    <tr style=\"text-align: right;\">\n",
       "      <th></th>\n",
       "      <th>user_id</th>\n",
       "      <th>song_id</th>\n",
       "      <th>listen_count</th>\n",
       "      <th>artist_name</th>\n",
       "      <th>title</th>\n",
       "    </tr>\n",
       "  </thead>\n",
       "  <tbody>\n",
       "    <tr>\n",
       "      <th>0</th>\n",
       "      <td>732659</td>\n",
       "      <td>17370</td>\n",
       "      <td>0.000</td>\n",
       "      <td>Jack Johnson</td>\n",
       "      <td>The Cove</td>\n",
       "    </tr>\n",
       "    <tr>\n",
       "      <th>1</th>\n",
       "      <td>732659</td>\n",
       "      <td>25443</td>\n",
       "      <td>0.000</td>\n",
       "      <td>Billy Preston</td>\n",
       "      <td>Nothing from Nothing</td>\n",
       "    </tr>\n",
       "    <tr>\n",
       "      <th>2</th>\n",
       "      <td>732659</td>\n",
       "      <td>45995</td>\n",
       "      <td>0.143</td>\n",
       "      <td>Paco De Lucia</td>\n",
       "      <td>Entre Dos Aguas</td>\n",
       "    </tr>\n",
       "    <tr>\n",
       "      <th>3</th>\n",
       "      <td>732659</td>\n",
       "      <td>52765</td>\n",
       "      <td>0.000</td>\n",
       "      <td>Josh Rouse</td>\n",
       "      <td>Under Cold Blue Stars</td>\n",
       "    </tr>\n",
       "    <tr>\n",
       "      <th>4</th>\n",
       "      <td>732659</td>\n",
       "      <td>52840</td>\n",
       "      <td>0.000</td>\n",
       "      <td>The Dead 60s</td>\n",
       "      <td>Riot Radio (Soundtrack Version)</td>\n",
       "    </tr>\n",
       "  </tbody>\n",
       "</table>\n",
       "</div>"
      ],
      "text/plain": [
       "   user_id  song_id  listen_count    artist_name  \\\n",
       "0   732659    17370         0.000   Jack Johnson   \n",
       "1   732659    25443         0.000  Billy Preston   \n",
       "2   732659    45995         0.143  Paco De Lucia   \n",
       "3   732659    52765         0.000     Josh Rouse   \n",
       "4   732659    52840         0.000   The Dead 60s   \n",
       "\n",
       "                             title  \n",
       "0                         The Cove  \n",
       "1             Nothing from Nothing  \n",
       "2                  Entre Dos Aguas  \n",
       "3            Under Cold Blue Stars  \n",
       "4  Riot Radio (Soundtrack Version)  "
      ]
     },
     "execution_count": 24,
     "metadata": {},
     "output_type": "execute_result"
    }
   ],
   "source": [
    "def min_max(x):\n",
    "    return (x-x.min()) / (x.max() - x.min())\n",
    "\n",
    "norm = song_df.groupby('user_id')['listen_count'].transform(min_max)\n",
    "song_df['listen_count'] = norm\n",
    "\n",
    "song_df.head()"
   ]
  },
  {
   "cell_type": "code",
   "execution_count": 25,
   "metadata": {},
   "outputs": [],
   "source": [
    "song_df = song_df.fillna(value=0)"
   ]
  },
  {
   "cell_type": "code",
   "execution_count": 26,
   "metadata": {},
   "outputs": [],
   "source": [
    "def split_dataframe(df, holdout_fraction=0.1):\n",
    "  test = df.sample(frac=holdout_fraction, replace=False)\n",
    "  train = df[~df.index.isin(test.index)]\n",
    "  return train, test"
   ]
  },
  {
   "cell_type": "code",
   "execution_count": 27,
   "metadata": {},
   "outputs": [],
   "source": [
    "def build_rating_sparse_tensor(song_df):\n",
    "  indices = song_df[['user_id', 'song_id']].values\n",
    "  values = song_df['listen_count'].values\n",
    "  return tf.SparseTensor(\n",
    "      indices=indices,\n",
    "      values=values,\n",
    "      dense_shape=[song_df_1.shape[0], song_df_2.shape[0]])\n"
   ]
  },
  {
   "cell_type": "code",
   "execution_count": 28,
   "metadata": {},
   "outputs": [],
   "source": [
    "def sparse_mean_square_error(sparse_ratings, user_embeddings, music_embeddings):\n",
    "  predictions = tf.reduce_sum(\n",
    "      tf.gather(user_embeddings, sparse_ratings.indices[:, 0]) *\n",
    "      tf.gather(music_embeddings, sparse_ratings.indices[:, 1]),\n",
    "      axis=1)\n",
    "  loss = tf.losses.mean_squared_error(sparse_ratings.values, predictions)\n",
    "  return loss"
   ]
  },
  {
   "cell_type": "code",
   "execution_count": 29,
   "metadata": {},
   "outputs": [],
   "source": [
    "class CFModel(object):\n",
    "  def __init__(self, embedding_vars, loss, metrics=None):\n",
    "    self._embedding_vars = embedding_vars\n",
    "    self._loss = loss\n",
    "    self._metrics = metrics\n",
    "    self._embeddings = {k: None for k in embedding_vars}\n",
    "    self._session = None\n",
    "\n",
    "  @property\n",
    "  def embeddings(self):\n",
    "    return self._embeddings\n",
    "\n",
    "  def train(self, num_iterations=100, learning_rate=1.0, plot_results=True,\n",
    "            optimizer=tf.compat.v1.train.GradientDescentOptimizer):\n",
    "    with self._loss.graph.as_default():\n",
    "      opt = optimizer(learning_rate)\n",
    "      train_op = opt.minimize(self._loss)\n",
    "      local_init_op = tf.group(\n",
    "          tf.compat.v1.global_variables_initializer(),\n",
    "          tf.compat.v1.local_variables_initializer())\n",
    "      if self._session is None:\n",
    "        self._session = tf.compat.v1.Session()\n",
    "        with self._session.as_default():\n",
    "          self._session.run(tf.compat.v1.global_variables_initializer())\n",
    "          self._session.run(tf.compat.v1.tables_initializer())\n",
    "          tf.compat.v1.train.start_queue_runners()\n",
    "\n",
    "    with self._session.as_default():\n",
    "      local_init_op.run()\n",
    "      iterations = []\n",
    "      metrics = self._metrics or ({},)\n",
    "      metrics_vals = [collections.defaultdict(list) for _ in self._metrics]\n",
    "\n",
    "      # Train and append results.\n",
    "      for i in range(num_iterations + 1):\n",
    "        _, results = self._session.run((train_op, metrics))\n",
    "        if (i % 10 == 0) or i == num_iterations:\n",
    "          print(\"\\r iteration %d: \" % i + \", \".join(\n",
    "                [\"%s=%f\" % (k, v) for r in results for k, v in r.items()]),\n",
    "                end='')\n",
    "          iterations.append(i)\n",
    "          for metric_val, result in zip(metrics_vals, results):\n",
    "            for k, v in result.items():\n",
    "              metric_val[k].append(v)\n",
    "\n",
    "      for k, v in self._embedding_vars.items():\n",
    "        self._embeddings[k] = v.eval()\n",
    "\n",
    "      if plot_results:\n",
    "        # Plot the metrics.\n",
    "        num_subplots = len(metrics)+1\n",
    "        fig = plt.figure()\n",
    "        fig.set_size_inches(num_subplots*10, 8)\n",
    "        for i, metric_vals in enumerate(metrics_vals):\n",
    "          ax = fig.add_subplot(1, num_subplots, i+1)\n",
    "          for k, v in metric_vals.items():\n",
    "            ax.plot(iterations, v, label=k)\n",
    "          ax.set_xlim([1, num_iterations])\n",
    "          ax.legend()\n",
    "      return results"
   ]
  },
  {
   "cell_type": "code",
   "execution_count": 30,
   "metadata": {},
   "outputs": [],
   "source": [
    "def build_model(ratings, embedding_dim=3, init_stddev=1.):\n",
    "\n",
    "  train_ratings, test_ratings = split_dataframe(ratings)\n",
    "  \n",
    "  A_train = build_rating_sparse_tensor(train_ratings)\n",
    "  A_test = build_rating_sparse_tensor(test_ratings)\n",
    "  \n",
    "  U = tf.Variable(tf.random.normal(\n",
    "      [A_train.dense_shape[0], embedding_dim], stddev=init_stddev))\n",
    "  V = tf.Variable(tf.random.normal(\n",
    "      [A_train.dense_shape[1], embedding_dim], stddev=init_stddev))\n",
    "  train_loss = sparse_mean_square_error(A_train, U, V)\n",
    "  test_loss = sparse_mean_square_error(A_test, U, V)\n",
    "  metrics = {\n",
    "      'train_error': train_loss,\n",
    "      'test_error': test_loss\n",
    "  }\n",
    "  embeddings = {\n",
    "      \"user_id\": U,\n",
    "      \"song_id\": V\n",
    "  }\n",
    "  return CFModel(embeddings, train_loss, [metrics])"
   ]
  },
  {
   "cell_type": "code",
   "execution_count": 31,
   "metadata": {},
   "outputs": [
    {
     "name": "stdout",
     "output_type": "stream",
     "text": [
      " iteration 5000: train_error=0.072422, test_error=0.084408"
     ]
    },
    {
     "data": {
      "text/plain": [
       "[{'train_error': 0.07242246, 'test_error': 0.08440839}]"
      ]
     },
     "execution_count": 31,
     "metadata": {},
     "output_type": "execute_result"
    },
    {
     "data": {
      "image/png": "[encoded data removed]",
      "text/plain": [
       "<Figure size 2000x800 with 1 Axes>"
      ]
     },
     "metadata": {},
     "output_type": "display_data"
    }
   ],
   "source": [
    "# Build the CF model and train\n",
    "tf.compat.v1.disable_eager_execution()\n",
    "model = build_model(song_df, embedding_dim=3, init_stddev=0.5)\n",
    "model.train(num_iterations=5000, learning_rate=25.)"
   ]
  },
  {
   "cell_type": "markdown",
   "metadata": {},
   "source": [
    "### Find similar items"
   ]
  },
  {
   "cell_type": "code",
   "execution_count": 54,
   "metadata": {},
   "outputs": [],
   "source": [
    "music = song_df_2"
   ]
  },
  {
   "cell_type": "code",
   "execution_count": 55,
   "metadata": {},
   "outputs": [],
   "source": [
    "DOT = 'dot'\n",
    "COSINE = 'cosine'\n",
    "def compute_scores(query_embedding, item_embeddings, measure=DOT):\n",
    "  u = query_embedding\n",
    "  V = item_embeddings\n",
    "  if measure == COSINE:\n",
    "    V = V / np.linalg.norm(V, axis=1, keepdims=True)\n",
    "    u = u / np.linalg.norm(u)\n",
    "  scores = u.dot(V.T)\n",
    "  return scores"
   ]
  },
  {
   "cell_type": "code",
   "execution_count": 56,
   "metadata": {},
   "outputs": [],
   "source": [
    "def music_neighbors(model, title_substring, measure=DOT, k=6):\n",
    "  ids =  music[music['title']==title_substring].index.values\n",
    "  titles = music.iloc[ids]['title'].values\n",
    "  if len(titles) == 0:\n",
    "    raise ValueError(\"Found no music with title %s\" % title_substring)\n",
    "  print(\"Nearest neighbors of : %s.\" % titles[0])\n",
    "  if len(titles) > 1:\n",
    "    print(\"[Found more than one matching music. Other candidates: {}]\".format(\n",
    "        \", \".join(titles[1:])))\n",
    "  song_id = ids[0]\n",
    "  scores = compute_scores(\n",
    "      model.embeddings[\"song_id\"][song_id], model.embeddings[\"song_id\"],\n",
    "      measure)\n",
    "  score_key = measure + ' score'\n",
    "  df = pd.DataFrame({\n",
    "      score_key: list(scores),\n",
    "      'titles': music['title'],\n",
    "  })\n",
    "  display.display(df.sort_values([score_key], ascending=False).head(k))"
   ]
  },
  {
   "cell_type": "code",
   "execution_count": 60,
   "metadata": {},
   "outputs": [
    {
     "name": "stdout",
     "output_type": "stream",
     "text": [
      "Nearest neighbors of : Stronger.\n",
      "[Found more than one matching music. Other candidates: Stronger, Stronger, Stronger, Stronger, Stronger, Stronger, Stronger, Stronger, Stronger, Stronger, Stronger, Stronger, Stronger, Stronger, Stronger, Stronger, Stronger, Stronger, Stronger, Stronger, Stronger, Stronger, Stronger, Stronger, Stronger, Stronger, Stronger, Stronger, Stronger, Stronger, Stronger, Stronger, Stronger, Stronger, Stronger, Stronger, Stronger, Stronger, Stronger, Stronger, Stronger, Stronger, Stronger, Stronger]\n"
     ]
    },
    {
     "data": {
      "text/html": [
       "<div>\n",
       "<style scoped>\n",
       "    .dataframe tbody tr th:only-of-type {\n",
       "        vertical-align: middle;\n",
       "    }\n",
       "\n",
       "    .dataframe tbody tr th {\n",
       "        vertical-align: top;\n",
       "    }\n",
       "\n",
       "    .dataframe thead th {\n",
       "        text-align: right;\n",
       "    }\n",
       "</style>\n",
       "<table border=\"1\" class=\"dataframe\">\n",
       "  <thead>\n",
       "    <tr style=\"text-align: right;\">\n",
       "      <th></th>\n",
       "      <th>cosine score</th>\n",
       "      <th>titles</th>\n",
       "    </tr>\n",
       "  </thead>\n",
       "  <tbody>\n",
       "    <tr>\n",
       "      <th>5945</th>\n",
       "      <td>1.000</td>\n",
       "      <td>Stronger</td>\n",
       "    </tr>\n",
       "    <tr>\n",
       "      <th>421789</th>\n",
       "      <td>1.000</td>\n",
       "      <td>Too Fly (Featuring Total's Pam) (Clean LP Vers...</td>\n",
       "    </tr>\n",
       "    <tr>\n",
       "      <th>268885</th>\n",
       "      <td>1.000</td>\n",
       "      <td>War of Emotions</td>\n",
       "    </tr>\n",
       "    <tr>\n",
       "      <th>285686</th>\n",
       "      <td>1.000</td>\n",
       "      <td>Where Do We Go From Here</td>\n",
       "    </tr>\n",
       "    <tr>\n",
       "      <th>935304</th>\n",
       "      <td>1.000</td>\n",
       "      <td>The Twist</td>\n",
       "    </tr>\n",
       "    <tr>\n",
       "      <th>402660</th>\n",
       "      <td>1.000</td>\n",
       "      <td>African Thing</td>\n",
       "    </tr>\n",
       "  </tbody>\n",
       "</table>\n",
       "</div>"
      ],
      "text/plain": [
       "        cosine score                                             titles\n",
       "5945           1.000                                           Stronger\n",
       "421789         1.000  Too Fly (Featuring Total's Pam) (Clean LP Vers...\n",
       "268885         1.000                                    War of Emotions\n",
       "285686         1.000                           Where Do We Go From Here\n",
       "935304         1.000                                          The Twist\n",
       "402660         1.000                                      African Thing"
      ]
     },
     "metadata": {},
     "output_type": "display_data"
    }
   ],
   "source": [
    "music_neighbors(model, \"Stronger\", COSINE)"
   ]
  },
  {
   "cell_type": "code",
   "execution_count": 61,
   "metadata": {},
   "outputs": [
    {
     "name": "stdout",
     "output_type": "stream",
     "text": [
      "Nearest neighbors of : Stronger.\n",
      "[Found more than one matching music. Other candidates: Stronger, Stronger, Stronger, Stronger, Stronger, Stronger, Stronger, Stronger, Stronger, Stronger, Stronger, Stronger, Stronger, Stronger, Stronger, Stronger, Stronger, Stronger, Stronger, Stronger, Stronger, Stronger, Stronger, Stronger, Stronger, Stronger, Stronger, Stronger, Stronger, Stronger, Stronger, Stronger, Stronger, Stronger, Stronger, Stronger, Stronger, Stronger, Stronger, Stronger, Stronger, Stronger, Stronger, Stronger]\n"
     ]
    },
    {
     "data": {
      "text/html": [
       "<div>\n",
       "<style scoped>\n",
       "    .dataframe tbody tr th:only-of-type {\n",
       "        vertical-align: middle;\n",
       "    }\n",
       "\n",
       "    .dataframe tbody tr th {\n",
       "        vertical-align: top;\n",
       "    }\n",
       "\n",
       "    .dataframe thead th {\n",
       "        text-align: right;\n",
       "    }\n",
       "</style>\n",
       "<table border=\"1\" class=\"dataframe\">\n",
       "  <thead>\n",
       "    <tr style=\"text-align: right;\">\n",
       "      <th></th>\n",
       "      <th>dot score</th>\n",
       "      <th>titles</th>\n",
       "    </tr>\n",
       "  </thead>\n",
       "  <tbody>\n",
       "    <tr>\n",
       "      <th>64082</th>\n",
       "      <td>3.053</td>\n",
       "      <td>Nomalizo</td>\n",
       "    </tr>\n",
       "    <tr>\n",
       "      <th>108806</th>\n",
       "      <td>2.907</td>\n",
       "      <td>Mr. Mutha Fucka</td>\n",
       "    </tr>\n",
       "    <tr>\n",
       "      <th>712430</th>\n",
       "      <td>2.893</td>\n",
       "      <td>Vegas</td>\n",
       "    </tr>\n",
       "    <tr>\n",
       "      <th>233500</th>\n",
       "      <td>2.851</td>\n",
       "      <td>Marabao_ Directo</td>\n",
       "    </tr>\n",
       "    <tr>\n",
       "      <th>760361</th>\n",
       "      <td>2.848</td>\n",
       "      <td>Forever Or Today</td>\n",
       "    </tr>\n",
       "    <tr>\n",
       "      <th>763467</th>\n",
       "      <td>2.806</td>\n",
       "      <td>Thank Him</td>\n",
       "    </tr>\n",
       "  </tbody>\n",
       "</table>\n",
       "</div>"
      ],
      "text/plain": [
       "        dot score            titles\n",
       "64082       3.053          Nomalizo\n",
       "108806      2.907   Mr. Mutha Fucka\n",
       "712430      2.893             Vegas\n",
       "233500      2.851  Marabao_ Directo\n",
       "760361      2.848  Forever Or Today\n",
       "763467      2.806         Thank Him"
      ]
     },
     "metadata": {},
     "output_type": "display_data"
    }
   ],
   "source": [
    "music_neighbors(model, \"Stronger\", DOT)"
   ]
  },
  {
   "cell_type": "code",
   "execution_count": 62,
   "metadata": {},
   "outputs": [],
   "source": [
    "USER_RATINGS = True\n",
    "def user_recommendations(model, user_id, measure=DOT, exclude_rated=False, k=20):\n",
    "  if USER_RATINGS:\n",
    "    scores = compute_scores(\n",
    "        model.embeddings[\"user_id\"][user_id], model.embeddings[\"song_id\"], measure)\n",
    "    score_key = measure + ' score'\n",
    "    df = pd.DataFrame({\n",
    "        score_key: list(scores),\n",
    "        'song_id': music['song_id'],\n",
    "        'titles': music['title'],\n",
    "    })\n",
    "    if exclude_rated:\n",
    "      # remove music that are already rated\n",
    "      rated_music = ratings[ratings.user_id == str(user_id)][\"song_id\"].values\n",
    "      df = df[df.song_id.apply(lambda song_id: song_id not in rated_music)]\n",
    "    display.display(df.sort_values([score_key], ascending=False).head(k))"
   ]
  },
  {
   "cell_type": "code",
   "execution_count": 69,
   "metadata": {},
   "outputs": [
    {
     "data": {
      "text/html": [
       "<div>\n",
       "<style scoped>\n",
       "    .dataframe tbody tr th:only-of-type {\n",
       "        vertical-align: middle;\n",
       "    }\n",
       "\n",
       "    .dataframe tbody tr th {\n",
       "        vertical-align: top;\n",
       "    }\n",
       "\n",
       "    .dataframe thead th {\n",
       "        text-align: right;\n",
       "    }\n",
       "</style>\n",
       "<table border=\"1\" class=\"dataframe\">\n",
       "  <thead>\n",
       "    <tr style=\"text-align: right;\">\n",
       "      <th></th>\n",
       "      <th>dot score</th>\n",
       "      <th>song_id</th>\n",
       "      <th>titles</th>\n",
       "    </tr>\n",
       "  </thead>\n",
       "  <tbody>\n",
       "    <tr>\n",
       "      <th>851583</th>\n",
       "      <td>2.779</td>\n",
       "      <td>270338</td>\n",
       "      <td>Let The Door Hit You</td>\n",
       "    </tr>\n",
       "    <tr>\n",
       "      <th>666821</th>\n",
       "      <td>2.747</td>\n",
       "      <td>65473</td>\n",
       "      <td>Boys And Girls</td>\n",
       "    </tr>\n",
       "    <tr>\n",
       "      <th>200047</th>\n",
       "      <td>2.618</td>\n",
       "      <td>591130</td>\n",
       "      <td>Lock Stock and Barrel - Original</td>\n",
       "    </tr>\n",
       "    <tr>\n",
       "      <th>724302</th>\n",
       "      <td>2.574</td>\n",
       "      <td>214630</td>\n",
       "      <td>The Intake Room</td>\n",
       "    </tr>\n",
       "    <tr>\n",
       "      <th>960053</th>\n",
       "      <td>2.528</td>\n",
       "      <td>260303</td>\n",
       "      <td>Other Side</td>\n",
       "    </tr>\n",
       "    <tr>\n",
       "      <th>477851</th>\n",
       "      <td>2.520</td>\n",
       "      <td>240534</td>\n",
       "      <td>Accident On Third Street</td>\n",
       "    </tr>\n",
       "    <tr>\n",
       "      <th>559831</th>\n",
       "      <td>2.510</td>\n",
       "      <td>765308</td>\n",
       "      <td>25 Variations And Fugue On A Theme By G.F. Han...</td>\n",
       "    </tr>\n",
       "    <tr>\n",
       "      <th>355694</th>\n",
       "      <td>2.509</td>\n",
       "      <td>934310</td>\n",
       "      <td>Melburn</td>\n",
       "    </tr>\n",
       "    <tr>\n",
       "      <th>143316</th>\n",
       "      <td>2.500</td>\n",
       "      <td>176692</td>\n",
       "      <td>Fantasy Pieces_ Op. 12: VII. Dream Visions in ...</td>\n",
       "    </tr>\n",
       "    <tr>\n",
       "      <th>834371</th>\n",
       "      <td>2.477</td>\n",
       "      <td>78097</td>\n",
       "      <td>Silueta</td>\n",
       "    </tr>\n",
       "  </tbody>\n",
       "</table>\n",
       "</div>"
      ],
      "text/plain": [
       "        dot score  song_id                                             titles\n",
       "851583      2.779   270338                               Let The Door Hit You\n",
       "666821      2.747    65473                                     Boys And Girls\n",
       "200047      2.618   591130                   Lock Stock and Barrel - Original\n",
       "724302      2.574   214630                                    The Intake Room\n",
       "960053      2.528   260303                                         Other Side\n",
       "477851      2.520   240534                           Accident On Third Street\n",
       "559831      2.510   765308  25 Variations And Fugue On A Theme By G.F. Han...\n",
       "355694      2.509   934310                                            Melburn\n",
       "143316      2.500   176692  Fantasy Pieces_ Op. 12: VII. Dream Visions in ...\n",
       "834371      2.477    78097                                            Silueta"
      ]
     },
     "metadata": {},
     "output_type": "display_data"
    }
   ],
   "source": [
    "user_id = 5\n",
    "if USER_RATINGS:\n",
    "  user_recommendations(model,user_id, measure=DOT, k=10)"
   ]
  },
  {
   "cell_type": "code",
   "execution_count": null,
   "metadata": {},
   "outputs": [],
   "source": []
  }
 ],
 "metadata": {
  "kernelspec": {
   "display_name": "base",
   "language": "python",
   "name": "python3"
  },
  "language_info": {
   "codemirror_mode": {
    "name": "ipython",
    "version": 3
   },
   "file_extension": ".py",
   "mimetype": "text/x-python",
   "name": "python",
   "nbconvert_exporter": "python",
   "pygments_lexer": "ipython3",
   "version": "3.11.5"
  }
 },
 "nbformat": 4,
 "nbformat_minor": 2
}

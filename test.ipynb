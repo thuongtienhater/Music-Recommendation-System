{
 "cells": [
  {
   "cell_type": "code",
   "execution_count": 1,
   "metadata": {},
   "outputs": [
    {
     "name": "stderr",
     "output_type": "stream",
     "text": [
      "c:\\Users\\Test\\anaconda3\\Lib\\site-packages\\pandas\\core\\arrays\\masked.py:60: UserWarning: Pandas requires version '1.3.6' or newer of 'bottleneck' (version '1.3.5' currently installed).\n",
      "  from pandas.core import (\n"
     ]
    },
    {
     "name": "stdout",
     "output_type": "stream",
     "text": [
      "WARNING:tensorflow:From c:\\Users\\Test\\anaconda3\\Lib\\site-packages\\keras\\src\\losses.py:2976: The name tf.losses.sparse_softmax_cross_entropy is deprecated. Please use tf.compat.v1.losses.sparse_softmax_cross_entropy instead.\n",
      "\n"
     ]
    }
   ],
   "source": [
    "from __future__ import print_function\n",
    "\n",
    "import numpy as np\n",
    "import pandas as pd\n",
    "import collections\n",
    "from mpl_toolkits.mplot3d import Axes3D\n",
    "from IPython import display\n",
    "from matplotlib import pyplot as plt\n",
    "import sklearn\n",
    "import sklearn.manifold\n",
    "import tensorflow as tf\n",
    "from sklearn import preprocessing\n",
    "import time\n",
    "import seaborn as sns\n",
    "import re\n",
    "from gensim.models import word2vec\n",
    "from keras.preprocessing.text import Tokenizer\n",
    "from keras.preprocessing.sequence import pad_sequences\n",
    "from sklearn.model_selection import train_test_split\n",
    "import os\n",
    "from keras.models import Sequential\n",
    "\n",
    "from keras.layers import Embedding\n",
    "\n",
    "import logging\n",
    "logging.getLogger('tensorflow').setLevel(logging.ERROR)\n",
    "\n",
    "\n",
    "# Add some convenience functions to Pandas DataFrame.\n",
    "pd.options.display.max_rows = 10\n",
    "pd.options.display.float_format = '{:.3f}'.format\n",
    "def mask(df, key, function):\n",
    "  \"\"\"Returns a filtered dataframe, by applying function to key\"\"\"\n",
    "  return df[function(df[key])]\n",
    "\n",
    "def flatten_cols(df):\n",
    "  df.columns = [' '.join(col).strip() for col in df.columns.values]\n",
    "  return df\n",
    "\n",
    "pd.DataFrame.mask = mask\n",
    "pd.DataFrame.flatten_cols = flatten_cols\n",
    "\n",
    "\n",
    "# Install spreadsheets and import authentication module.\n",
    "\n"
   ]
  },
  {
   "cell_type": "code",
   "execution_count": 2,
   "metadata": {},
   "outputs": [
    {
     "name": "stderr",
     "output_type": "stream",
     "text": [
      "C:\\Users\\Test\\AppData\\Local\\Temp\\ipykernel_10232\\3537166491.py:8: ParserWarning: Falling back to the 'python' engine because the 'c' engine does not support regex separators (separators > 1 char and different from '\\s+' are interpreted as regex); you can avoid this warning by specifying engine='python'.\n",
      "  song_df_2 = pd.read_csv(unique_tracks, sep=\"<SEP>\", names=['track_id', 'song_id', 'artist_name', 'title'])\n"
     ]
    }
   ],
   "source": [
    "triplets_file = 'train_triplets.txt'\n",
    "unique_tracks = 'unique_tracks.txt'\n",
    "\n",
    "song_df_1 = pd.read_table(triplets_file,header=None)\n",
    "song_df_1.columns = ['user_id', 'song_id', 'listen_count']\n",
    "\n",
    "#Read song  metadata\n",
    "song_df_2 = pd.read_csv(unique_tracks, sep=\"<SEP>\", names=['track_id', 'song_id', 'artist_name', 'title'])\n",
    "song_df_2.drop(columns='track_id', inplace=True)"
   ]
  },
  {
   "cell_type": "code",
   "execution_count": 3,
   "metadata": {},
   "outputs": [],
   "source": [
    "ebd = {}"
   ]
  },
  {
   "cell_type": "code",
   "execution_count": 4,
   "metadata": {},
   "outputs": [],
   "source": [
    "index = len(song_df_1)//20\n",
    "song_df_1 = song_df_1.iloc[:index]"
   ]
  },
  {
   "cell_type": "code",
   "execution_count": 5,
   "metadata": {},
   "outputs": [],
   "source": [
    "le_song_id = preprocessing.LabelEncoder()\n",
    "le_song_id.fit(song_df_2.song_id)\n",
    "song_df_2.song_id = le_song_id.transform(song_df_2.song_id)\n",
    "song_df_1.song_id = le_song_id.transform(song_df_1.song_id)"
   ]
  },
  {
   "cell_type": "code",
   "execution_count": 6,
   "metadata": {},
   "outputs": [],
   "source": [
    "le_user_id = preprocessing.LabelEncoder()\n",
    "song_df_1.user_id = le_user_id.fit_transform(song_df_1.user_id)"
   ]
  },
  {
   "cell_type": "code",
   "execution_count": 7,
   "metadata": {},
   "outputs": [],
   "source": [
    "song_df = pd.merge(song_df_1, \\\n",
    "                   song_df_2.drop_duplicates(['song_id']), \\\n",
    "                   on=\"song_id\", how=\"left\")"
   ]
  },
  {
   "cell_type": "code",
   "execution_count": 8,
   "metadata": {},
   "outputs": [],
   "source": [
    "song_df = song_df.fillna(value=0)"
   ]
  },
  {
   "cell_type": "code",
   "execution_count": 9,
   "metadata": {},
   "outputs": [
    {
     "data": {
      "text/html": [
       "<div>\n",
       "<style scoped>\n",
       "    .dataframe tbody tr th:only-of-type {\n",
       "        vertical-align: middle;\n",
       "    }\n",
       "\n",
       "    .dataframe tbody tr th {\n",
       "        vertical-align: top;\n",
       "    }\n",
       "\n",
       "    .dataframe thead th {\n",
       "        text-align: right;\n",
       "    }\n",
       "</style>\n",
       "<table border=\"1\" class=\"dataframe\">\n",
       "  <thead>\n",
       "    <tr style=\"text-align: right;\">\n",
       "      <th></th>\n",
       "      <th>user_id</th>\n",
       "      <th>song_id</th>\n",
       "      <th>listen_count</th>\n",
       "      <th>artist_name</th>\n",
       "      <th>title</th>\n",
       "    </tr>\n",
       "  </thead>\n",
       "  <tbody>\n",
       "    <tr>\n",
       "      <th>0</th>\n",
       "      <td>36252</td>\n",
       "      <td>17370</td>\n",
       "      <td>-0.299</td>\n",
       "      <td>Jack Johnson</td>\n",
       "      <td>The Cove</td>\n",
       "    </tr>\n",
       "    <tr>\n",
       "      <th>1</th>\n",
       "      <td>36252</td>\n",
       "      <td>25443</td>\n",
       "      <td>-0.299</td>\n",
       "      <td>Billy Preston</td>\n",
       "      <td>Nothing from Nothing</td>\n",
       "    </tr>\n",
       "    <tr>\n",
       "      <th>2</th>\n",
       "      <td>36252</td>\n",
       "      <td>45995</td>\n",
       "      <td>0.519</td>\n",
       "      <td>Paco De Lucia</td>\n",
       "      <td>Entre Dos Aguas</td>\n",
       "    </tr>\n",
       "    <tr>\n",
       "      <th>3</th>\n",
       "      <td>36252</td>\n",
       "      <td>52765</td>\n",
       "      <td>-0.299</td>\n",
       "      <td>Josh Rouse</td>\n",
       "      <td>Under Cold Blue Stars</td>\n",
       "    </tr>\n",
       "    <tr>\n",
       "      <th>4</th>\n",
       "      <td>36252</td>\n",
       "      <td>52840</td>\n",
       "      <td>-0.299</td>\n",
       "      <td>The Dead 60s</td>\n",
       "      <td>Riot Radio (Soundtrack Version)</td>\n",
       "    </tr>\n",
       "  </tbody>\n",
       "</table>\n",
       "</div>"
      ],
      "text/plain": [
       "   user_id  song_id  listen_count    artist_name  \\\n",
       "0    36252    17370        -0.299   Jack Johnson   \n",
       "1    36252    25443        -0.299  Billy Preston   \n",
       "2    36252    45995         0.519  Paco De Lucia   \n",
       "3    36252    52765        -0.299     Josh Rouse   \n",
       "4    36252    52840        -0.299   The Dead 60s   \n",
       "\n",
       "                             title  \n",
       "0                         The Cove  \n",
       "1             Nothing from Nothing  \n",
       "2                  Entre Dos Aguas  \n",
       "3            Under Cold Blue Stars  \n",
       "4  Riot Radio (Soundtrack Version)  "
      ]
     },
     "execution_count": 9,
     "metadata": {},
     "output_type": "execute_result"
    }
   ],
   "source": [
    "def zscore(x):\n",
    "    return (x - x.mean()) / x.std()\n",
    "\n",
    "norm = song_df.groupby('user_id')['listen_count'].transform(zscore)\n",
    "song_df['listen_count'] = norm\n",
    "\n",
    "song_df.head()"
   ]
  },
  {
   "cell_type": "code",
   "execution_count": 10,
   "metadata": {},
   "outputs": [
    {
     "data": {
      "text/html": [
       "<div>\n",
       "<style scoped>\n",
       "    .dataframe tbody tr th:only-of-type {\n",
       "        vertical-align: middle;\n",
       "    }\n",
       "\n",
       "    .dataframe tbody tr th {\n",
       "        vertical-align: top;\n",
       "    }\n",
       "\n",
       "    .dataframe thead th {\n",
       "        text-align: right;\n",
       "    }\n",
       "</style>\n",
       "<table border=\"1\" class=\"dataframe\">\n",
       "  <thead>\n",
       "    <tr style=\"text-align: right;\">\n",
       "      <th></th>\n",
       "      <th>user_id</th>\n",
       "      <th>song_id</th>\n",
       "      <th>listen_count</th>\n",
       "      <th>artist_name</th>\n",
       "      <th>title</th>\n",
       "    </tr>\n",
       "  </thead>\n",
       "  <tbody>\n",
       "    <tr>\n",
       "      <th>0</th>\n",
       "      <td>36252</td>\n",
       "      <td>17370</td>\n",
       "      <td>0.000</td>\n",
       "      <td>Jack Johnson</td>\n",
       "      <td>The Cove</td>\n",
       "    </tr>\n",
       "    <tr>\n",
       "      <th>1</th>\n",
       "      <td>36252</td>\n",
       "      <td>25443</td>\n",
       "      <td>0.000</td>\n",
       "      <td>Billy Preston</td>\n",
       "      <td>Nothing from Nothing</td>\n",
       "    </tr>\n",
       "    <tr>\n",
       "      <th>2</th>\n",
       "      <td>36252</td>\n",
       "      <td>45995</td>\n",
       "      <td>0.143</td>\n",
       "      <td>Paco De Lucia</td>\n",
       "      <td>Entre Dos Aguas</td>\n",
       "    </tr>\n",
       "    <tr>\n",
       "      <th>3</th>\n",
       "      <td>36252</td>\n",
       "      <td>52765</td>\n",
       "      <td>0.000</td>\n",
       "      <td>Josh Rouse</td>\n",
       "      <td>Under Cold Blue Stars</td>\n",
       "    </tr>\n",
       "    <tr>\n",
       "      <th>4</th>\n",
       "      <td>36252</td>\n",
       "      <td>52840</td>\n",
       "      <td>0.000</td>\n",
       "      <td>The Dead 60s</td>\n",
       "      <td>Riot Radio (Soundtrack Version)</td>\n",
       "    </tr>\n",
       "  </tbody>\n",
       "</table>\n",
       "</div>"
      ],
      "text/plain": [
       "   user_id  song_id  listen_count    artist_name  \\\n",
       "0    36252    17370         0.000   Jack Johnson   \n",
       "1    36252    25443         0.000  Billy Preston   \n",
       "2    36252    45995         0.143  Paco De Lucia   \n",
       "3    36252    52765         0.000     Josh Rouse   \n",
       "4    36252    52840         0.000   The Dead 60s   \n",
       "\n",
       "                             title  \n",
       "0                         The Cove  \n",
       "1             Nothing from Nothing  \n",
       "2                  Entre Dos Aguas  \n",
       "3            Under Cold Blue Stars  \n",
       "4  Riot Radio (Soundtrack Version)  "
      ]
     },
     "execution_count": 10,
     "metadata": {},
     "output_type": "execute_result"
    }
   ],
   "source": [
    "def min_max(x):\n",
    "    return (x-x.min()) / (x.max() - x.min())\n",
    "\n",
    "norm = song_df.groupby('user_id')['listen_count'].transform(min_max)\n",
    "song_df['listen_count'] = norm\n",
    "\n",
    "song_df.head()"
   ]
  },
  {
   "cell_type": "code",
   "execution_count": 11,
   "metadata": {},
   "outputs": [],
   "source": [
    "song_df = song_df.fillna(value=0)"
   ]
  },
  {
   "cell_type": "code",
   "execution_count": null,
   "metadata": {},
   "outputs": [],
   "source": [
    "def split_dataframe(df, holdout_fraction=0.1):\n",
    "  test = df.sample(frac=holdout_fraction, replace=False)\n",
    "  train = df[~df.index.isin(test.index)]\n",
    "  return train, test"
   ]
  },
  {
   "cell_type": "code",
   "execution_count": null,
   "metadata": {},
   "outputs": [],
   "source": [
    "def build_rating_sparse_tensor(song_df):\n",
    "  indices = song_df[['user_id', 'song_id']].values\n",
    "  values = song_df['listen_count'].values\n",
    "  return tf.SparseTensor(\n",
    "      indices=indices,\n",
    "      values=values,\n",
    "      dense_shape=[song_df_1.shape[0], song_df_2.shape[0]])"
   ]
  },
  {
   "cell_type": "code",
   "execution_count": 12,
   "metadata": {},
   "outputs": [],
   "source": [
    "def split_dataframe(df, holdout_fraction=0.1):\n",
    "\n",
    "  test = df.sample(frac=holdout_fraction, replace=False)\n",
    "  train = df[~df.index.isin(test.index)]\n",
    "  return train, test\n",
    "\n",
    "def build_rating_sparse_tensor(song_df):\n",
    "  indices = song_df[['user_id', 'song_id']].values\n",
    "  values = song_df['listen_count'].values\n",
    "  return tf.SparseTensor(\n",
    "      indices=indices,\n",
    "      values=values,\n",
    "      dense_shape=[song_df_1.shape[0], song_df_2.shape[0]])\n",
    "\n",
    "def sparse_mean_square_error(sparse_ratings, user_embeddings, music_embeddings):\n",
    "  predictions = tf.reduce_sum(\n",
    "      tf.gather(user_embeddings, sparse_ratings.indices[:, 0]) *\n",
    "      tf.gather(music_embeddings, sparse_ratings.indices[:, 1]),\n",
    "      axis=1)\n",
    "  loss = tf.losses.mean_squared_error(sparse_ratings.values, predictions)\n",
    "  return loss\n"
   ]
  },
  {
   "cell_type": "code",
   "execution_count": 13,
   "metadata": {},
   "outputs": [],
   "source": [
    "train, test = split_dataframe(song_df, holdout_fraction=0.1)\n"
   ]
  },
  {
   "cell_type": "code",
   "execution_count": 14,
   "metadata": {},
   "outputs": [
    {
     "data": {
      "text/plain": [
       "(2176811, 5)"
      ]
     },
     "execution_count": 14,
     "metadata": {},
     "output_type": "execute_result"
    }
   ],
   "source": [
    "train"
   ]
  },
  {
   "cell_type": "code",
   "execution_count": 15,
   "metadata": {},
   "outputs": [
    {
     "data": {
      "text/plain": [
       "(241868, 5)"
      ]
     },
     "execution_count": 15,
     "metadata": {},
     "output_type": "execute_result"
    }
   ],
   "source": [
    "test.shape"
   ]
  },
  {
   "cell_type": "code",
   "execution_count": 14,
   "metadata": {},
   "outputs": [],
   "source": [
    "import tensorflow as tf\n",
    "import collections\n",
    "import matplotlib.pyplot as plt\n",
    "\n",
    "class CFModel(object):\n",
    "    def __init__(self, embedding_vars, loss, metrics=None):\n",
    "        self._embedding_vars = embedding_vars\n",
    "        self._loss = loss\n",
    "        self._metrics = metrics\n",
    "        self._embeddings = {k: None for k in embedding_vars}\n",
    "        self._session = None\n",
    "        self._saver = tf.compat.v1.train.Saver()\n",
    "\n",
    "    @property\n",
    "    def embeddings(self):\n",
    "        return self._embeddings\n",
    "\n",
    "    def train(self, num_iterations=100, learning_rate=1.0, plot_results=True,\n",
    "              optimizer=tf.compat.v1.train.GradientDescentOptimizer):\n",
    "        with self._loss.graph.as_default():\n",
    "            opt = optimizer(learning_rate)\n",
    "            train_op = opt.minimize(self._loss)\n",
    "            local_init_op = tf.group(\n",
    "                tf.compat.v1.global_variables_initializer(),\n",
    "                tf.compat.v1.local_variables_initializer())\n",
    "            if self._session is None:\n",
    "                self._session = tf.compat.v1.Session()\n",
    "                with self._session.as_default():\n",
    "                    self._session.run(tf.compat.v1.global_variables_initializer())\n",
    "                    self._session.run(tf.compat.v1.tables_initializer())\n",
    "                    tf.compat.v1.train.start_queue_runners()\n",
    "\n",
    "        with self._session.as_default():\n",
    "            local_init_op.run()\n",
    "            iterations = []\n",
    "            metrics = self._metrics or ({},)\n",
    "            metrics_vals = [collections.defaultdict(list) for _ in self._metrics]\n",
    "\n",
    "            for i in range(num_iterations + 1):\n",
    "                _, results = self._session.run((train_op, metrics))\n",
    "                if (i % 10 == 0) or i == num_iterations:\n",
    "                    print(\"\\r iteration %d: \" % i + \", \".join(\n",
    "                        [\"%s=%f\" % (k, v) for r in results for k, v in r.items()]),\n",
    "                        end='')\n",
    "                    iterations.append(i)\n",
    "                    for metric_val, result in zip(metrics_vals, results):\n",
    "                        for k, v in result.items():\n",
    "                            metric_val[k].append(v)\n",
    "\n",
    "            for k, v in self._embedding_vars.items():\n",
    "                self._embeddings[k] = v.eval()\n",
    "\n",
    "            if plot_results:\n",
    "                num_subplots = len(metrics) + 1\n",
    "                fig = plt.figure()\n",
    "                fig.set_size_inches(num_subplots * 10, 8)\n",
    "                for i, metric_vals in enumerate(metrics_vals):\n",
    "                    ax = fig.add_subplot(1, num_subplots, i + 1)\n",
    "                    for k, v in metric_vals.items():\n",
    "                        ax.plot(iterations, v, label=k)\n",
    "                    ax.set_xlim([1, num_iterations])\n",
    "                    ax.legend()\n",
    "\n",
    "            return results\n"
   ]
  },
  {
   "cell_type": "code",
   "execution_count": 145,
   "metadata": {},
   "outputs": [],
   "source": [
    "import pickle\n",
    "class CFModel(object):\n",
    "  def __init__(self, embedding_vars, loss, metrics=None):\n",
    "    self._embedding_vars = embedding_vars\n",
    "    self._loss = loss\n",
    "    self._metrics = metrics\n",
    "    self._embeddings = {k: None for k in embedding_vars}\n",
    "    self._session = None\n",
    "\n",
    "  @property\n",
    "  def embeddings(self):\n",
    "    return self._embeddings\n",
    "\n",
    "  def train(self, num_iterations=100, learning_rate=1.0, plot_results=True,\n",
    "            optimizer=tf.compat.v1.train.GradientDescentOptimizer):\n",
    "    with self._loss.graph.as_default():\n",
    "      opt = optimizer(learning_rate)\n",
    "      train_op = opt.minimize(self._loss)\n",
    "      local_init_op = tf.group(\n",
    "          tf.compat.v1.global_variables_initializer(),\n",
    "          tf.compat.v1.local_variables_initializer())\n",
    "      if self._session is None:\n",
    "        self._session = tf.compat.v1.Session()\n",
    "        with self._session.as_default():\n",
    "          self._session.run(tf.compat.v1.global_variables_initializer())\n",
    "          self._session.run(tf.compat.v1.tables_initializer())\n",
    "          tf.compat.v1.train.start_queue_runners()\n",
    "\n",
    "    with self._session.as_default():\n",
    "      local_init_op.run()\n",
    "      iterations = []\n",
    "      metrics = self._metrics or ({},)\n",
    "      metrics_vals = [collections.defaultdict(list) for _ in self._metrics]\n",
    "\n",
    "      # Train and append results.\n",
    "      for i in range(num_iterations + 1):\n",
    "        _, results = self._session.run((train_op, metrics))\n",
    "        if (i % 10 == 0) or i == num_iterations:\n",
    "          print(\"\\r iteration %d: \" % i + \", \".join(\n",
    "                [\"%s=%f\" % (k, v) for r in results for k, v in r.items()]),\n",
    "                end='')\n",
    "          iterations.append(i)\n",
    "          for metric_val, result in zip(metrics_vals, results):\n",
    "            for k, v in result.items():\n",
    "              metric_val[k].append(v)\n",
    "\n",
    "      for k, v in self._embedding_vars.items():\n",
    "        self._embeddings[k] = v.eval()\n",
    "\n",
    "      if plot_results:\n",
    "        # Plot the metrics.\n",
    "        num_subplots = len(metrics)+1\n",
    "        fig = plt.figure()\n",
    "        fig.set_size_inches(num_subplots*10, 8)\n",
    "        for i, metric_vals in enumerate(metrics_vals):\n",
    "          ax = fig.add_subplot(1, num_subplots, i+1)\n",
    "          for k, v in metric_vals.items():\n",
    "            ax.plot(iterations, v, label=k)\n",
    "          ax.set_xlim([1, num_iterations])\n",
    "          ax.legend()\n",
    "      return results\n",
    "    \n",
    "\n",
    "  def save_model(self, file_path):\n",
    "    if self._session is None:\n",
    "        raise ValueError(\"No session found. Train the model before saving.\")\n",
    "\n",
    "    model_data = {\n",
    "        'embedding_vars': {k: self._session.run(v).tolist() for k, v in self._embedding_vars.items()},\n",
    "        'loss': self._loss.eval(session=self._session).tolist(),\n",
    "        'metrics': {k: {kk: self._session.run(vv).tolist() for kk, vv in v.items()} for k, v in self._metrics.items()}\n",
    "    }\n",
    "\n",
    "    with open(file_path, 'wb') as f:\n",
    "        pickle.dump(model_data, f)\n",
    "\n",
    "    print(f\"Model saved to {file_path}\")\n",
    "\n",
    "  @staticmethod\n",
    "  def load_model(file_path):\n",
    "      with open(file_path, 'rb') as f:\n",
    "          model_data = pickle.load(f)\n",
    "\n",
    "      embedding_vars = {k: tf.Variable(v, name=k) for k, v in model_data['embedding_vars'].items()}\n",
    "      loss = tf.constant(model_data['loss'], name='loss')\n",
    "      metrics = {k: {kk: tf.constant(vv, name=kk) for kk, vv in v.items()} for k, v in model_data['metrics'].items()}\n",
    "\n",
    "      return CFModel(embedding_vars, loss, metrics)"
   ]
  },
  {
   "cell_type": "code",
   "execution_count": 146,
   "metadata": {},
   "outputs": [],
   "source": [
    "def gravity(U, V):\n",
    "  return 1. / (U.shape[0]*V.shape[0]) * tf.reduce_sum(\n",
    "      tf.matmul(U, U, transpose_a=True) * tf.matmul(V, V, transpose_a=True))\n",
    "\n",
    "def build_regularized_model(\n",
    "    ratings, embedding_dim=3, regularization_coeff=.1, gravity_coeff=1.,\n",
    "    init_stddev=0.1):\n",
    "\n",
    "  train_ratings, test_ratings = split_dataframe(ratings)\n",
    "\n",
    "  A_train = build_rating_sparse_tensor(train_ratings)\n",
    "  A_test = build_rating_sparse_tensor(test_ratings)\n",
    "  U = tf.Variable(tf.random.normal(\n",
    "      [A_train.dense_shape[0], embedding_dim], stddev=init_stddev))\n",
    "  V = tf.Variable(tf.random.normal(\n",
    "      [A_train.dense_shape[1], embedding_dim], stddev=init_stddev))\n",
    "\n",
    "  error_train = sparse_mean_square_error(A_train, U, V)\n",
    "  error_test = sparse_mean_square_error(A_test, U, V)\n",
    "  gravity_loss = gravity_coeff * gravity(U, V)\n",
    "  regularization_loss = regularization_coeff * (\n",
    "      tf.reduce_sum(U*U)/U.shape[0] + tf.reduce_sum(V*V)/V.shape[0])\n",
    "  total_loss = error_train + regularization_loss + gravity_loss\n",
    "  losses = {\n",
    "      'train_error_observed': error_train,\n",
    "      'test_error_observed': error_test,\n",
    "  }\n",
    "  loss_components = {\n",
    "      'observed_loss': error_train,\n",
    "      'regularization_loss': regularization_loss,\n",
    "      'gravity_loss': gravity_loss,\n",
    "  }\n",
    "  embeddings = {\"user_id\": U, \"song_id\": V}\n",
    "\n",
    "  return CFModel(embeddings, total_loss, [losses, loss_components])"
   ]
  },
  {
   "cell_type": "code",
   "execution_count": 147,
   "metadata": {},
   "outputs": [
    {
     "name": "stdout",
     "output_type": "stream",
     "text": [
      " iteration 1: train_error_observed=0.065493, test_error_observed=0.065806, observed_loss=0.065493, regularization_loss=0.017502, gravity_loss=0.000219"
     ]
    },
    {
     "name": "stderr",
     "output_type": "stream",
     "text": [
      "C:\\Users\\Test\\AppData\\Local\\Temp\\ipykernel_12840\\355815710.py:59: UserWarning: Attempting to set identical low and high xlims makes transformation singular; automatically expanding.\n",
      "  ax.set_xlim([1, num_iterations])\n"
     ]
    },
    {
     "data": {
      "text/plain": [
       "[{'train_error_observed': 0.06549317, 'test_error_observed': 0.065806024},\n",
       " {'observed_loss': 0.06549317,\n",
       "  'regularization_loss': 0.017501598,\n",
       "  'gravity_loss': 0.00021878992}]"
      ]
     },
     "execution_count": 147,
     "metadata": {},
     "output_type": "execute_result"
    },
    {
     "data": {
      "image/png": "[encoded data removed]",
      "text/plain": [
       "<Figure size 3000x800 with 2 Axes>"
      ]
     },
     "metadata": {},
     "output_type": "display_data"
    }
   ],
   "source": [
    "tf.compat.v1.disable_eager_execution()\n",
    "reg_model = build_regularized_model(\n",
    "    song_df, regularization_coeff=0.1, gravity_coeff=1.0, embedding_dim=35,\n",
    "    init_stddev=.05)\n",
    "reg_model.train(num_iterations=1, learning_rate=20.)"
   ]
  },
  {
   "cell_type": "code",
   "execution_count": 148,
   "metadata": {},
   "outputs": [],
   "source": [
    "music = song_df_2"
   ]
  },
  {
   "cell_type": "code",
   "execution_count": 149,
   "metadata": {},
   "outputs": [],
   "source": [
    "DOT = 'dot'\n",
    "COSINE = 'cosine'\n",
    "def compute_scores(query_embedding, item_embeddings, measure=DOT):\n",
    "  \"\"\"Computes the scores of the candidates given a query.\n",
    "  Args:\n",
    "    query_embedding: a vector of shape [k], representing the query embedding.\n",
    "    item_embeddings: a matrix of shape [N, k], such that row i is the embedding\n",
    "      of item i.\n",
    "    measure: a string specifying the similarity measure to be used. Can be\n",
    "      either DOT or COSINE.\n",
    "  Returns:\n",
    "    scores: a vector of shape [N], such that scores[i] is the score of item i.\n",
    "  \"\"\"\n",
    "  u = query_embedding\n",
    "  V = item_embeddings\n",
    "  if measure == COSINE:\n",
    "    V = V / np.linalg.norm(V, axis=1, keepdims=True)\n",
    "    u = u / np.linalg.norm(u)\n",
    "  scores = u.dot(V.T)\n",
    "  return scores"
   ]
  },
  {
   "cell_type": "code",
   "execution_count": 150,
   "metadata": {},
   "outputs": [],
   "source": [
    "def user_recommendations(model, user=0, measure=DOT, exclude_rated=False, k=20):\n",
    "  scores = compute_scores(\n",
    "      model.embeddings[\"user_id\"][user], model.embeddings[\"song_id\"], measure)\n",
    "  score_key = measure + ' score'\n",
    "  df = pd.DataFrame({\n",
    "      score_key: list(scores),\n",
    "      'song_id': music['song_id'],\n",
    "      'titles': music['title'],\n",
    "  })\n",
    "  display.display(df.sort_values([score_key], ascending=False).head(k))  "
   ]
  },
  {
   "cell_type": "code",
   "execution_count": 151,
   "metadata": {},
   "outputs": [
    {
     "data": {
      "text/html": [
       "<div>\n",
       "<style scoped>\n",
       "    .dataframe tbody tr th:only-of-type {\n",
       "        vertical-align: middle;\n",
       "    }\n",
       "\n",
       "    .dataframe tbody tr th {\n",
       "        vertical-align: top;\n",
       "    }\n",
       "\n",
       "    .dataframe thead th {\n",
       "        text-align: right;\n",
       "    }\n",
       "</style>\n",
       "<table border=\"1\" class=\"dataframe\">\n",
       "  <thead>\n",
       "    <tr style=\"text-align: right;\">\n",
       "      <th></th>\n",
       "      <th>dot score</th>\n",
       "      <th>song_id</th>\n",
       "      <th>titles</th>\n",
       "    </tr>\n",
       "  </thead>\n",
       "  <tbody>\n",
       "    <tr>\n",
       "      <th>531478</th>\n",
       "      <td>0.088</td>\n",
       "      <td>155931</td>\n",
       "      <td>Love And Marriage Rap</td>\n",
       "    </tr>\n",
       "    <tr>\n",
       "      <th>886763</th>\n",
       "      <td>0.069</td>\n",
       "      <td>62583</td>\n",
       "      <td>Beaufort 9_ And Rising</td>\n",
       "    </tr>\n",
       "    <tr>\n",
       "      <th>233305</th>\n",
       "      <td>0.068</td>\n",
       "      <td>384418</td>\n",
       "      <td>Linnanmäki palaa</td>\n",
       "    </tr>\n",
       "    <tr>\n",
       "      <th>588992</th>\n",
       "      <td>0.067</td>\n",
       "      <td>497831</td>\n",
       "      <td>Any Minute Now / Thinking Back</td>\n",
       "    </tr>\n",
       "    <tr>\n",
       "      <th>785419</th>\n",
       "      <td>0.066</td>\n",
       "      <td>678096</td>\n",
       "      <td>Chasing Song</td>\n",
       "    </tr>\n",
       "    <tr>\n",
       "      <th>...</th>\n",
       "      <td>...</td>\n",
       "      <td>...</td>\n",
       "      <td>...</td>\n",
       "    </tr>\n",
       "    <tr>\n",
       "      <th>788736</th>\n",
       "      <td>0.063</td>\n",
       "      <td>358423</td>\n",
       "      <td>Giralda</td>\n",
       "    </tr>\n",
       "    <tr>\n",
       "      <th>541024</th>\n",
       "      <td>0.062</td>\n",
       "      <td>162760</td>\n",
       "      <td>If I Were A Carpenter</td>\n",
       "    </tr>\n",
       "    <tr>\n",
       "      <th>163283</th>\n",
       "      <td>0.062</td>\n",
       "      <td>935577</td>\n",
       "      <td>Circle Of Fire</td>\n",
       "    </tr>\n",
       "    <tr>\n",
       "      <th>968421</th>\n",
       "      <td>0.062</td>\n",
       "      <td>655393</td>\n",
       "      <td>One Of A Kind</td>\n",
       "    </tr>\n",
       "    <tr>\n",
       "      <th>984786</th>\n",
       "      <td>0.062</td>\n",
       "      <td>678944</td>\n",
       "      <td>Waiting For A Dream</td>\n",
       "    </tr>\n",
       "  </tbody>\n",
       "</table>\n",
       "<p>20 rows × 3 columns</p>\n",
       "</div>"
      ],
      "text/plain": [
       "        dot score  song_id                          titles\n",
       "531478      0.088   155931           Love And Marriage Rap\n",
       "886763      0.069    62583          Beaufort 9_ And Rising\n",
       "233305      0.068   384418                Linnanmäki palaa\n",
       "588992      0.067   497831  Any Minute Now / Thinking Back\n",
       "785419      0.066   678096                    Chasing Song\n",
       "...           ...      ...                             ...\n",
       "788736      0.063   358423                         Giralda\n",
       "541024      0.062   162760           If I Were A Carpenter\n",
       "163283      0.062   935577                  Circle Of Fire\n",
       "968421      0.062   655393                   One Of A Kind\n",
       "984786      0.062   678944             Waiting For A Dream\n",
       "\n",
       "[20 rows x 3 columns]"
      ]
     },
     "metadata": {},
     "output_type": "display_data"
    }
   ],
   "source": [
    "user_id = 88\n",
    "user_recommendations(reg_model, user_id, measure=DOT, k=20)"
   ]
  },
  {
   "cell_type": "code",
   "execution_count": 161,
   "metadata": {},
   "outputs": [
    {
     "data": {
      "text/html": [
       "<div>\n",
       "<style scoped>\n",
       "    .dataframe tbody tr th:only-of-type {\n",
       "        vertical-align: middle;\n",
       "    }\n",
       "\n",
       "    .dataframe tbody tr th {\n",
       "        vertical-align: top;\n",
       "    }\n",
       "\n",
       "    .dataframe thead th {\n",
       "        text-align: right;\n",
       "    }\n",
       "</style>\n",
       "<table border=\"1\" class=\"dataframe\">\n",
       "  <thead>\n",
       "    <tr style=\"text-align: right;\">\n",
       "      <th></th>\n",
       "      <th>dot score</th>\n",
       "      <th>song_id</th>\n",
       "      <th>titles</th>\n",
       "    </tr>\n",
       "  </thead>\n",
       "  <tbody>\n",
       "    <tr>\n",
       "      <th>531478</th>\n",
       "      <td>0.088</td>\n",
       "      <td>155931</td>\n",
       "      <td>Love And Marriage Rap</td>\n",
       "    </tr>\n",
       "    <tr>\n",
       "      <th>886763</th>\n",
       "      <td>0.069</td>\n",
       "      <td>62583</td>\n",
       "      <td>Beaufort 9_ And Rising</td>\n",
       "    </tr>\n",
       "    <tr>\n",
       "      <th>233305</th>\n",
       "      <td>0.068</td>\n",
       "      <td>384418</td>\n",
       "      <td>Linnanmäki palaa</td>\n",
       "    </tr>\n",
       "    <tr>\n",
       "      <th>588992</th>\n",
       "      <td>0.067</td>\n",
       "      <td>497831</td>\n",
       "      <td>Any Minute Now / Thinking Back</td>\n",
       "    </tr>\n",
       "    <tr>\n",
       "      <th>785419</th>\n",
       "      <td>0.066</td>\n",
       "      <td>678096</td>\n",
       "      <td>Chasing Song</td>\n",
       "    </tr>\n",
       "    <tr>\n",
       "      <th>...</th>\n",
       "      <td>...</td>\n",
       "      <td>...</td>\n",
       "      <td>...</td>\n",
       "    </tr>\n",
       "    <tr>\n",
       "      <th>788736</th>\n",
       "      <td>0.063</td>\n",
       "      <td>358423</td>\n",
       "      <td>Giralda</td>\n",
       "    </tr>\n",
       "    <tr>\n",
       "      <th>541024</th>\n",
       "      <td>0.062</td>\n",
       "      <td>162760</td>\n",
       "      <td>If I Were A Carpenter</td>\n",
       "    </tr>\n",
       "    <tr>\n",
       "      <th>163283</th>\n",
       "      <td>0.062</td>\n",
       "      <td>935577</td>\n",
       "      <td>Circle Of Fire</td>\n",
       "    </tr>\n",
       "    <tr>\n",
       "      <th>968421</th>\n",
       "      <td>0.062</td>\n",
       "      <td>655393</td>\n",
       "      <td>One Of A Kind</td>\n",
       "    </tr>\n",
       "    <tr>\n",
       "      <th>984786</th>\n",
       "      <td>0.062</td>\n",
       "      <td>678944</td>\n",
       "      <td>Waiting For A Dream</td>\n",
       "    </tr>\n",
       "  </tbody>\n",
       "</table>\n",
       "<p>20 rows × 3 columns</p>\n",
       "</div>"
      ],
      "text/plain": [
       "        dot score  song_id                          titles\n",
       "531478      0.088   155931           Love And Marriage Rap\n",
       "886763      0.069    62583          Beaufort 9_ And Rising\n",
       "233305      0.068   384418                Linnanmäki palaa\n",
       "588992      0.067   497831  Any Minute Now / Thinking Back\n",
       "785419      0.066   678096                    Chasing Song\n",
       "...           ...      ...                             ...\n",
       "788736      0.063   358423                         Giralda\n",
       "541024      0.062   162760           If I Were A Carpenter\n",
       "163283      0.062   935577                  Circle Of Fire\n",
       "968421      0.062   655393                   One Of A Kind\n",
       "984786      0.062   678944             Waiting For A Dream\n",
       "\n",
       "[20 rows x 3 columns]"
      ]
     },
     "metadata": {},
     "output_type": "display_data"
    }
   ],
   "source": [
    "user_id = 88\n",
    "rmt(abc, user_id, measure=DOT, k=20)"
   ]
  },
  {
   "cell_type": "code",
   "execution_count": 139,
   "metadata": {},
   "outputs": [
    {
     "data": {
      "text/plain": [
       "{'user_id': array([[-0.01327621,  0.01001761,  0.03462171, ..., -0.0105927 ,\n",
       "         -0.05643967, -0.01671445],\n",
       "        [ 0.06585854,  0.03284265,  0.03771687, ...,  0.07030863,\n",
       "          0.03730576,  0.0892252 ],\n",
       "        [ 0.08663431,  0.09086262, -0.01195675, ...,  0.0464686 ,\n",
       "         -0.00907952,  0.0272523 ],\n",
       "        ...,\n",
       "        [-0.05994461, -0.08670287, -0.07524022, ...,  0.03090209,\n",
       "         -0.01808574,  0.02306075],\n",
       "        [ 0.0465363 ,  0.06207476,  0.06668616, ...,  0.03694432,\n",
       "          0.02842454, -0.06398445],\n",
       "        [-0.04122817, -0.01679331,  0.02976293, ...,  0.09664251,\n",
       "         -0.00410302, -0.013474  ]], dtype=float32),\n",
       " 'song_id': array([[ 0.08477838, -0.08578871,  0.03951568, ...,  0.04335651,\n",
       "          0.00844142, -0.04375473],\n",
       "        [ 0.03788013,  0.06950765, -0.07038698, ..., -0.05497054,\n",
       "          0.03841389,  0.04885069],\n",
       "        [-0.07500263, -0.0739952 , -0.01668321, ..., -0.036364  ,\n",
       "          0.00912705, -0.08685721],\n",
       "        ...,\n",
       "        [-0.02977426,  0.00326646, -0.02426148, ..., -0.0482357 ,\n",
       "         -0.04672024, -0.07124148],\n",
       "        [-0.05684613,  0.07064236,  0.06336453, ..., -0.05491359,\n",
       "         -0.00845278,  0.13272703],\n",
       "        [ 0.03320931,  0.02139446,  0.04941425, ..., -0.0120684 ,\n",
       "         -0.06850311, -0.03689134]], dtype=float32)}"
      ]
     },
     "execution_count": 139,
     "metadata": {},
     "output_type": "execute_result"
    }
   ],
   "source": [
    "reg_model.embeddings"
   ]
  },
  {
   "cell_type": "code",
   "execution_count": 132,
   "metadata": {},
   "outputs": [],
   "source": [
    "test_model =CFModel(reg_model.embeddings, reg_model._loss, reg_model._metrics)"
   ]
  },
  {
   "cell_type": "code",
   "execution_count": 153,
   "metadata": {},
   "outputs": [
    {
     "data": {
      "text/plain": [
       "{'user_id': array([[ 0.0429863 ,  0.05646355, -0.04855637, ..., -0.06561154,\n",
       "          0.01531799, -0.03318745],\n",
       "        [ 0.00145509,  0.09292258,  0.0014811 , ..., -0.08263901,\n",
       "         -0.098404  , -0.0308403 ],\n",
       "        [ 0.0172552 , -0.00379046, -0.00239297, ...,  0.07155141,\n",
       "          0.06058032, -0.00584985],\n",
       "        ...,\n",
       "        [-0.02027095, -0.00205568, -0.00183537, ...,  0.05071212,\n",
       "         -0.024619  ,  0.06195365],\n",
       "        [-0.06875946,  0.0246831 , -0.07118452, ..., -0.06999686,\n",
       "          0.03809119, -0.02240947],\n",
       "        [ 0.07216349,  0.02277264,  0.0650614 , ..., -0.01102552,\n",
       "         -0.02642722,  0.00536145]], dtype=float32),\n",
       " 'song_id': array([[-0.02943712, -0.06290226, -0.04808345, ..., -0.01934304,\n",
       "         -0.05825716,  0.02845825],\n",
       "        [ 0.00653018,  0.01271902, -0.02527401, ..., -0.11100861,\n",
       "         -0.07069216, -0.00510634],\n",
       "        [-0.0180533 , -0.03757919, -0.07843295, ...,  0.02818949,\n",
       "         -0.01316896,  0.05546903],\n",
       "        ...,\n",
       "        [-0.02595977, -0.01478229,  0.08177141, ...,  0.03426253,\n",
       "          0.04245563, -0.04961076],\n",
       "        [-0.03857313, -0.07356681, -0.02233695, ..., -0.09086065,\n",
       "          0.02923788,  0.01562867],\n",
       "        [-0.03210232,  0.00495198, -0.070107  , ..., -0.03961611,\n",
       "          0.0022945 ,  0.06981736]], dtype=float32)}"
      ]
     },
     "execution_count": 153,
     "metadata": {},
     "output_type": "execute_result"
    }
   ],
   "source": [
    "reg_model.embeddings"
   ]
  },
  {
   "cell_type": "code",
   "execution_count": 155,
   "metadata": {},
   "outputs": [
    {
     "data": {
      "text/plain": [
       "{'user_id': array([[-0.01327621,  0.01001761,  0.03462171, ..., -0.0105927 ,\n",
       "         -0.05643967, -0.01671445],\n",
       "        [ 0.06585854,  0.03284265,  0.03771687, ...,  0.07030863,\n",
       "          0.03730576,  0.0892252 ],\n",
       "        [ 0.08663431,  0.09086262, -0.01195675, ...,  0.0464686 ,\n",
       "         -0.00907952,  0.0272523 ],\n",
       "        ...,\n",
       "        [-0.05994461, -0.08670287, -0.07524022, ...,  0.03090209,\n",
       "         -0.01808574,  0.02306075],\n",
       "        [ 0.0465363 ,  0.06207476,  0.06668616, ...,  0.03694432,\n",
       "          0.02842454, -0.06398445],\n",
       "        [-0.04122817, -0.01679331,  0.02976293, ...,  0.09664251,\n",
       "         -0.00410302, -0.013474  ]], dtype=float32),\n",
       " 'song_id': array([[ 0.08477838, -0.08578871,  0.03951568, ...,  0.04335651,\n",
       "          0.00844142, -0.04375473],\n",
       "        [ 0.03788013,  0.06950765, -0.07038698, ..., -0.05497054,\n",
       "          0.03841389,  0.04885069],\n",
       "        [-0.07500263, -0.0739952 , -0.01668321, ..., -0.036364  ,\n",
       "          0.00912705, -0.08685721],\n",
       "        ...,\n",
       "        [-0.02977426,  0.00326646, -0.02426148, ..., -0.0482357 ,\n",
       "         -0.04672024, -0.07124148],\n",
       "        [-0.05684613,  0.07064236,  0.06336453, ..., -0.05491359,\n",
       "         -0.00845278,  0.13272703],\n",
       "        [ 0.03320931,  0.02139446,  0.04941425, ..., -0.0120684 ,\n",
       "         -0.06850311, -0.03689134]], dtype=float32)}"
      ]
     },
     "execution_count": 155,
     "metadata": {},
     "output_type": "execute_result"
    }
   ],
   "source": [
    "test_model._embedding_vars"
   ]
  },
  {
   "cell_type": "code",
   "execution_count": 157,
   "metadata": {},
   "outputs": [
    {
     "name": "stdout",
     "output_type": "stream",
     "text": [
      "Dữ liệu đã được lưu vào file model_embeddings.json\n"
     ]
    }
   ],
   "source": [
    "import json\n",
    "import numpy as np\n",
    "\n",
    "# Giả sử reg_model.embeddings là dictionary chứa các mảng NumPy\n",
    "data_to_save = {}\n",
    "for key, value in reg_model.embeddings.items():\n",
    "    if isinstance(value, np.ndarray):\n",
    "        data_to_save[key] = value.tolist()  # Chuyển đổi ndarray sang list\n",
    "    else:\n",
    "        data_to_save[key] = value  # Giữ nguyên nếu không phải ndarray\n",
    "\n",
    "# Đường dẫn file để lưu\n",
    "file_path = 'model_embeddings.json'\n",
    "\n",
    "# Lưu dữ liệu xuống file JSON\n",
    "with open(file_path, 'w') as f:\n",
    "    json.dump(data_to_save, f)\n",
    "\n",
    "print(f\"Dữ liệu đã được lưu vào file {file_path}\")\n"
   ]
  },
  {
   "cell_type": "code",
   "execution_count": 126,
   "metadata": {},
   "outputs": [
    {
     "data": {
      "text/plain": [
       "{'user_id': None, 'song_id': None}"
      ]
     },
     "execution_count": 126,
     "metadata": {},
     "output_type": "execute_result"
    }
   ],
   "source": [
    "test_model.embeddings"
   ]
  },
  {
   "cell_type": "code",
   "execution_count": 127,
   "metadata": {},
   "outputs": [],
   "source": [
    "def rmt(model, user=0, measure=DOT, exclude_rated=False, k=20):\n",
    "  scores = compute_scores(\n",
    "      model._embedding_vars[\"user_id\"][user], model._embedding_vars[\"song_id\"], measure)\n",
    "  score_key = measure + ' score'\n",
    "  df = pd.DataFrame({\n",
    "      score_key: list(scores),\n",
    "      'song_id': music['song_id'],\n",
    "      'titles': music['title'],\n",
    "  })\n",
    "  display.display(df.sort_values([score_key], ascending=False).head(k))  "
   ]
  },
  {
   "cell_type": "code",
   "execution_count": 135,
   "metadata": {},
   "outputs": [
    {
     "data": {
      "text/html": [
       "<div>\n",
       "<style scoped>\n",
       "    .dataframe tbody tr th:only-of-type {\n",
       "        vertical-align: middle;\n",
       "    }\n",
       "\n",
       "    .dataframe tbody tr th {\n",
       "        vertical-align: top;\n",
       "    }\n",
       "\n",
       "    .dataframe thead th {\n",
       "        text-align: right;\n",
       "    }\n",
       "</style>\n",
       "<table border=\"1\" class=\"dataframe\">\n",
       "  <thead>\n",
       "    <tr style=\"text-align: right;\">\n",
       "      <th></th>\n",
       "      <th>dot score</th>\n",
       "      <th>song_id</th>\n",
       "      <th>titles</th>\n",
       "    </tr>\n",
       "  </thead>\n",
       "  <tbody>\n",
       "    <tr>\n",
       "      <th>452096</th>\n",
       "      <td>0.083</td>\n",
       "      <td>975614</td>\n",
       "      <td>We Don't Play Guitars (Christian Vogel Remix)</td>\n",
       "    </tr>\n",
       "    <tr>\n",
       "      <th>707111</th>\n",
       "      <td>0.075</td>\n",
       "      <td>630</td>\n",
       "      <td>Gunfire</td>\n",
       "    </tr>\n",
       "    <tr>\n",
       "      <th>918041</th>\n",
       "      <td>0.075</td>\n",
       "      <td>676197</td>\n",
       "      <td>Transmission</td>\n",
       "    </tr>\n",
       "    <tr>\n",
       "      <th>169350</th>\n",
       "      <td>0.073</td>\n",
       "      <td>952187</td>\n",
       "      <td>She All That And More</td>\n",
       "    </tr>\n",
       "    <tr>\n",
       "      <th>482563</th>\n",
       "      <td>0.072</td>\n",
       "      <td>554238</td>\n",
       "      <td>2nd Skin (Geert Huinink's crushing remix)</td>\n",
       "    </tr>\n",
       "    <tr>\n",
       "      <th>...</th>\n",
       "      <td>...</td>\n",
       "      <td>...</td>\n",
       "      <td>...</td>\n",
       "    </tr>\n",
       "    <tr>\n",
       "      <th>308158</th>\n",
       "      <td>0.069</td>\n",
       "      <td>339782</td>\n",
       "      <td>Hallå i huvet</td>\n",
       "    </tr>\n",
       "    <tr>\n",
       "      <th>606644</th>\n",
       "      <td>0.069</td>\n",
       "      <td>36981</td>\n",
       "      <td>Butterfly  (Album Version)</td>\n",
       "    </tr>\n",
       "    <tr>\n",
       "      <th>374328</th>\n",
       "      <td>0.068</td>\n",
       "      <td>400514</td>\n",
       "      <td>Radio Plays</td>\n",
       "    </tr>\n",
       "    <tr>\n",
       "      <th>367922</th>\n",
       "      <td>0.068</td>\n",
       "      <td>853654</td>\n",
       "      <td>Alguém Da Minha Família</td>\n",
       "    </tr>\n",
       "    <tr>\n",
       "      <th>398559</th>\n",
       "      <td>0.068</td>\n",
       "      <td>493305</td>\n",
       "      <td>I Can't Let It Happen To You</td>\n",
       "    </tr>\n",
       "  </tbody>\n",
       "</table>\n",
       "<p>20 rows × 3 columns</p>\n",
       "</div>"
      ],
      "text/plain": [
       "        dot score  song_id                                         titles\n",
       "452096      0.083   975614  We Don't Play Guitars (Christian Vogel Remix)\n",
       "707111      0.075      630                                        Gunfire\n",
       "918041      0.075   676197                                   Transmission\n",
       "169350      0.073   952187                          She All That And More\n",
       "482563      0.072   554238      2nd Skin (Geert Huinink's crushing remix)\n",
       "...           ...      ...                                            ...\n",
       "308158      0.069   339782                                  Hallå i huvet\n",
       "606644      0.069    36981                     Butterfly  (Album Version)\n",
       "374328      0.068   400514                                    Radio Plays\n",
       "367922      0.068   853654                        Alguém Da Minha Família\n",
       "398559      0.068   493305                   I Can't Let It Happen To You\n",
       "\n",
       "[20 rows x 3 columns]"
      ]
     },
     "metadata": {},
     "output_type": "display_data"
    }
   ],
   "source": [
    "user_id = 88\n",
    "rmt(test_model, user_id, measure=DOT, k=20)"
   ]
  },
  {
   "cell_type": "code",
   "execution_count": 158,
   "metadata": {},
   "outputs": [],
   "source": [
    "import json\n",
    "import numpy as np\n",
    "\n",
    "def load_embeddings_from_json(file_path):\n",
    "    with open(file_path, 'r') as f:\n",
    "        data = json.load(f)\n",
    "\n",
    "    ebd = {}\n",
    "    for key, value in data.items():\n",
    "        if isinstance(value, list):\n",
    "            ebd[key] = np.array(value, dtype=np.float32)\n",
    "        else:\n",
    "            ebd[key] = value\n",
    "\n",
    "    return ebd\n",
    "\n",
    "# Đường dẫn file JSON chứa dữ liệu embeddings\n",
    "file_path = 'model_embeddings.json'\n",
    "\n",
    "# Đọc dữ liệu từ file JSON và chuyển đổi thành dict ebd với các mảng NumPy\n",
    "ebd = load_embeddings_from_json(file_path)"
   ]
  },
  {
   "cell_type": "code",
   "execution_count": 159,
   "metadata": {},
   "outputs": [],
   "source": [
    "abc = CFModel(ebd, None, None)"
   ]
  },
  {
   "cell_type": "code",
   "execution_count": 160,
   "metadata": {},
   "outputs": [
    {
     "data": {
      "text/plain": [
       "{'user_id': array([[ 0.0429863 ,  0.05646355, -0.04855637, ..., -0.06561154,\n",
       "          0.01531799, -0.03318745],\n",
       "        [ 0.00145509,  0.09292258,  0.0014811 , ..., -0.08263901,\n",
       "         -0.098404  , -0.0308403 ],\n",
       "        [ 0.0172552 , -0.00379046, -0.00239297, ...,  0.07155141,\n",
       "          0.06058032, -0.00584985],\n",
       "        ...,\n",
       "        [-0.02027095, -0.00205568, -0.00183537, ...,  0.05071212,\n",
       "         -0.024619  ,  0.06195365],\n",
       "        [-0.06875946,  0.0246831 , -0.07118452, ..., -0.06999686,\n",
       "          0.03809119, -0.02240947],\n",
       "        [ 0.07216349,  0.02277264,  0.0650614 , ..., -0.01102552,\n",
       "         -0.02642722,  0.00536145]], dtype=float32),\n",
       " 'song_id': array([[-0.02943712, -0.06290226, -0.04808345, ..., -0.01934304,\n",
       "         -0.05825716,  0.02845825],\n",
       "        [ 0.00653018,  0.01271902, -0.02527401, ..., -0.11100861,\n",
       "         -0.07069216, -0.00510634],\n",
       "        [-0.0180533 , -0.03757919, -0.07843295, ...,  0.02818949,\n",
       "         -0.01316896,  0.05546903],\n",
       "        ...,\n",
       "        [-0.02595977, -0.01478229,  0.08177141, ...,  0.03426253,\n",
       "          0.04245563, -0.04961076],\n",
       "        [-0.03857313, -0.07356681, -0.02233695, ..., -0.09086065,\n",
       "          0.02923788,  0.01562867],\n",
       "        [-0.03210232,  0.00495198, -0.070107  , ..., -0.03961611,\n",
       "          0.0022945 ,  0.06981736]], dtype=float32)}"
      ]
     },
     "execution_count": 160,
     "metadata": {},
     "output_type": "execute_result"
    }
   ],
   "source": []
  },
  {
   "cell_type": "code",
   "execution_count": null,
   "metadata": {},
   "outputs": [],
   "source": []
  }
 ],
 "metadata": {
  "kernelspec": {
   "display_name": "base",
   "language": "python",
   "name": "python3"
  },
  "language_info": {
   "codemirror_mode": {
    "name": "ipython",
    "version": 3
   },
   "file_extension": ".py",
   "mimetype": "text/x-python",
   "name": "python",
   "nbconvert_exporter": "python",
   "pygments_lexer": "ipython3",
   "version": "3.11.5"
  }
 },
 "nbformat": 4,
 "nbformat_minor": 2
}
